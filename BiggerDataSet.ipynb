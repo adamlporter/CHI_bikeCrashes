{
 "cells": [
  {
   "cell_type": "markdown",
   "metadata": {},
   "source": [
    "The City of Chicago has made it's police database available from it's city data hub.\n",
    "\n",
    "I'm curious about what it shows about accidents involving bicycles and, specifically, what happened during covid.\n",
    "\n",
    "Allegedly, more people started biking in 2020 because public transit was either limited or perceived to be unsafe; many bike shops reported they couldn't keep up with demand (with supply chain problems doubtless contributing to the problem).\n",
    "\n",
    "But drivers -- taking advantage of fewer cars on the road -- allegedly began to drive faster and more recklessly.\n",
    "\n",
    "Questions:\n",
    "    1) Was there an increase in the amount of bicycling being done during 2020? This question is better answered by analyzing DIVVY data. This cannot show how private bike use changed, but it can show whether there was an uptick in the amount of useage with the DIVVY system.\n",
    "    2) Was there an increase in the number of bike accidents in 2020? This might suggest either/both more bikes on the road and/or more reckless driving being done.\n",
    "\n",
    "To access the Chicago databases, one needs an API app token. One needs to create an account on their website (https://data.cityofchicago.org/login) and then go to the developer settings page (https://data.cityofchicago.org/profile/edit/developer_settings)"
   ]
  },
  {
   "cell_type": "code",
   "execution_count": 2,
   "metadata": {},
   "outputs": [],
   "source": [
    "import pandas as pd\n",
    "import numpy as np\n",
    "import matplotlib\n",
    "from sodapy import Socrata"
   ]
  },
  {
   "cell_type": "code",
   "execution_count": 3,
   "metadata": {},
   "outputs": [],
   "source": [
    "# get API tokens\n",
    "with open('.env.development') as f:\n",
    "    data = f.read()\n",
    "\n",
    "for line in data.split('\\n'):\n",
    "    head,sep,tail = line.partition(' = ')\n",
    "    \n",
    "    if head == 'crashAPIkey':\n",
    "        crashAPIkey = tail\n",
    "    elif head == 'weatherAPIkey':\n",
    "        weatherAPIkey = tail"
   ]
  },
  {
   "cell_type": "markdown",
   "metadata": {},
   "source": [
    "One can query the city's database with a URL like this one:\n",
    "    url= \"https://data.cityofchicago.org/resource/85ca-t3if.json?$$app_token=AppTok$where=crash_date%20between$20'2021-01-01T00:00:00'%20and%20'2022-01-01T00:00:00'\"\n",
    "\n",
    "but it is clearer to use the Socrata client and sodapy. The syntax for it is a little confusing and the next few cells show my trial- and error-efforts to get the syntax correct.\n",
    "\n",
    "One problem is that the URL method returns a JSON object, which Pandas does a better job of turning into a DF: numbers are recognized as numbers, mostly.\n",
    "\n",
    "The Socrata client returns a list/dictionary and Pandas turns all the fields into string objects."
   ]
  },
  {
   "cell_type": "code",
   "execution_count": 4,
   "metadata": {},
   "outputs": [],
   "source": [
    "client=Socrata('data.cityofchicago.org',crashAPIkey)\n",
    "# chicago data, App_token\n"
   ]
  },
  {
   "cell_type": "code",
   "execution_count": null,
   "metadata": {},
   "outputs": [],
   "source": [
    "#results=client.get('85ca-t3if',limit=2000)\n",
    "# this works - pulls 2K crash records\n",
    "#len(results)"
   ]
  },
  {
   "cell_type": "code",
   "execution_count": 15,
   "metadata": {},
   "outputs": [
    {
     "data": {
      "text/plain": [
       "2000"
      ]
     },
     "execution_count": 15,
     "metadata": {},
     "output_type": "execute_result"
    }
   ],
   "source": [
    "#results2 = client.get('85ca-t3if',where=\"first_crash_type== 'PEDALCYCLIST'\",limit=2000)\n",
    "#len(results2)"
   ]
  },
  {
   "cell_type": "code",
   "execution_count": 14,
   "metadata": {},
   "outputs": [
    {
     "data": {
      "text/plain": [
       "2000"
      ]
     },
     "execution_count": 14,
     "metadata": {},
     "output_type": "execute_result"
    }
   ],
   "source": [
    "#results3 = client.get('85ca-t3if',where= \"crash_date>'21-01-01T00:00:00'\",limit=2000)\n",
    "#len(results3)"
   ]
  },
  {
   "cell_type": "markdown",
   "metadata": {},
   "source": [
    "The above cells are my experiments to get the syntax of the query correct. The documentation isn't terribly helpful about how to format the \"where\" statement. What I found was:\n",
    "\n",
    "* field names don't need to be in quotes but the criteria do:\n",
    "    * `first_crash_type` (field name) `== 'PEDALCYCLIST'` (criteria)\n",
    "* Socrata supports multiple criterial; each needs to follow the above format:\n",
    "    * `where= \"crash_date>'19-01-01T00:00:00'\" and \"first_crash_type== 'PEDALCYCLIST'\"`"
   ]
  },
  {
   "cell_type": "code",
   "execution_count": 5,
   "metadata": {},
   "outputs": [],
   "source": [
    "results = client.get('85ca-t3if', \n",
    "    where= \"crash_date>'22-01-01T00:00:00'\" and \"first_crash_type== 'PEDALCYCLIST'\",\n",
    "    limit = 50000)\n",
    "# returns a JSON object: list of DICT entries, one per crash record "
   ]
  },
  {
   "cell_type": "code",
   "execution_count": 9,
   "metadata": {},
   "outputs": [
    {
     "data": {
      "text/plain": [
       "10063"
      ]
     },
     "execution_count": 9,
     "metadata": {},
     "output_type": "execute_result"
    }
   ],
   "source": [
    "crashes = pd.DataFrame.from_dict(results)\n",
    "len(crashes)"
   ]
  },
  {
   "cell_type": "code",
   "execution_count": 21,
   "metadata": {},
   "outputs": [
    {
     "data": {
      "text/plain": [
       "crash_record_id                  object\n",
       "crash_date                       object\n",
       "posted_speed_limit               object\n",
       "traffic_control_device           object\n",
       "device_condition                 object\n",
       "weather_condition                object\n",
       "lighting_condition               object\n",
       "first_crash_type                 object\n",
       "trafficway_type                  object\n",
       "alignment                        object\n",
       "roadway_surface_cond             object\n",
       "road_defect                      object\n",
       "report_type                      object\n",
       "crash_type                       object\n",
       "damage                           object\n",
       "date_police_notified             object\n",
       "prim_contributory_cause          object\n",
       "sec_contributory_cause           object\n",
       "street_no                        object\n",
       "street_direction                 object\n",
       "street_name                      object\n",
       "beat_of_occurrence               object\n",
       "dooring_i                        object\n",
       "num_units                        object\n",
       "most_severe_injury               object\n",
       "injuries_total                   object\n",
       "injuries_fatal                   object\n",
       "injuries_incapacitating          object\n",
       "injuries_non_incapacitating      object\n",
       "injuries_reported_not_evident    object\n",
       "injuries_no_indication           object\n",
       "injuries_unknown                 object\n",
       "crash_hour                       object\n",
       "crash_day_of_week                object\n",
       "crash_month                      object\n",
       "latitude                         object\n",
       "longitude                        object\n",
       "location                         object\n",
       "intersection_related_i           object\n",
       "hit_and_run_i                    object\n",
       "statements_taken_i               object\n",
       "rd_no                            object\n",
       "crash_date_est_i                 object\n",
       "private_property_i               object\n",
       "photos_taken_i                   object\n",
       "work_zone_i                      object\n",
       "work_zone_type                   object\n",
       "workers_present_i                object\n",
       "lane_cnt                         object\n",
       "dtype: object"
      ]
     },
     "execution_count": 21,
     "metadata": {},
     "output_type": "execute_result"
    }
   ],
   "source": [
    "crashes.dtypes"
   ]
  },
  {
   "cell_type": "markdown",
   "metadata": {},
   "source": [
    "Since Jan 2019 to July 2022, there are only 9253 reports of crashes involving bicyclists? This seems low. Let's chart it by year to see if there are major differences. . .\n",
    "\n",
    "First a bit of data cleaning, including changing the date field to datetime format"
   ]
  },
  {
   "cell_type": "code",
   "execution_count": 22,
   "metadata": {},
   "outputs": [],
   "source": [
    "crashes.crash_date = pd.to_datetime(crashes.crash_date)"
   ]
  },
  {
   "cell_type": "code",
   "execution_count": 23,
   "metadata": {},
   "outputs": [],
   "source": [
    "crashes['crash_year'] = crashes['crash_date'].dt.year"
   ]
  },
  {
   "cell_type": "code",
   "execution_count": 24,
   "metadata": {},
   "outputs": [],
   "source": [
    "crashes['posted_speed_limit'] = pd.to_numeric(crashes['posted_speed_limit'])\n",
    "crashes['crash_month'] = pd.to_numeric(crashes['crash_month'])\n",
    "crashes['beat_of_occurrence'] = pd.to_numeric( crashes['beat_of_occurrence'] )\n",
    "crashes['injuries_total'] = pd.to_numeric(crashes['injuries_total'])\n",
    "crashes['crash_hour'] = pd.to_numeric( crashes['crash_hour'] )\n",
    "crashes['crash_year'] = pd.to_numeric( crashes['crash_year'] )\n",
    "crashes['crash_day_of_week'] = pd.to_numeric( crashes['crash_day_of_week'] )\n",
    "crashes['latitude'] = pd.to_numeric( crashes['latitude'] )\n",
    "crashes['longitude'] = pd.to_numeric( crashes['longitude'] )\n"
   ]
  },
  {
   "cell_type": "code",
   "execution_count": 25,
   "metadata": {},
   "outputs": [
    {
     "data": {
      "text/plain": [
       "crash_record_id                          object\n",
       "crash_date                       datetime64[ns]\n",
       "posted_speed_limit                        int64\n",
       "traffic_control_device                   object\n",
       "device_condition                         object\n",
       "weather_condition                        object\n",
       "lighting_condition                       object\n",
       "first_crash_type                         object\n",
       "trafficway_type                          object\n",
       "alignment                                object\n",
       "roadway_surface_cond                     object\n",
       "road_defect                              object\n",
       "report_type                              object\n",
       "crash_type                               object\n",
       "damage                                   object\n",
       "date_police_notified                     object\n",
       "prim_contributory_cause                  object\n",
       "sec_contributory_cause                   object\n",
       "street_no                                object\n",
       "street_direction                         object\n",
       "street_name                              object\n",
       "beat_of_occurrence                        int64\n",
       "dooring_i                                object\n",
       "num_units                                object\n",
       "most_severe_injury                       object\n",
       "injuries_total                            int64\n",
       "injuries_fatal                           object\n",
       "injuries_incapacitating                  object\n",
       "injuries_non_incapacitating              object\n",
       "injuries_reported_not_evident            object\n",
       "injuries_no_indication                   object\n",
       "injuries_unknown                         object\n",
       "crash_hour                                int64\n",
       "crash_day_of_week                         int64\n",
       "crash_month                               int64\n",
       "latitude                                float64\n",
       "longitude                               float64\n",
       "location                                 object\n",
       "intersection_related_i                   object\n",
       "hit_and_run_i                            object\n",
       "statements_taken_i                       object\n",
       "rd_no                                    object\n",
       "crash_date_est_i                         object\n",
       "private_property_i                       object\n",
       "photos_taken_i                           object\n",
       "work_zone_i                              object\n",
       "work_zone_type                           object\n",
       "workers_present_i                        object\n",
       "lane_cnt                                 object\n",
       "crash_year                                int64\n",
       "dtype: object"
      ]
     },
     "execution_count": 25,
     "metadata": {},
     "output_type": "execute_result"
    }
   ],
   "source": [
    "crashes.dtypes"
   ]
  },
  {
   "cell_type": "code",
   "execution_count": 26,
   "metadata": {},
   "outputs": [
    {
     "data": {
      "text/plain": [
       "<AxesSubplot: title={'center': 'Annual N of Reported Crashes'}>"
      ]
     },
     "execution_count": 26,
     "metadata": {},
     "output_type": "execute_result"
    },
    {
     "data": {
      "image/png": "[encoded data removed]",
      "text/plain": [
       "<Figure size 640x480 with 1 Axes>"
      ]
     },
     "metadata": {},
     "output_type": "display_data"
    }
   ],
   "source": [
    "import matplotlib.pyplot as plt\n",
    "%matplotlib inline \n",
    "crashes['crash_year'].value_counts().sort_index().plot.bar(title='Annual N of Reported Crashes')"
   ]
  },
  {
   "cell_type": "markdown",
   "metadata": {},
   "source": [
    "Hard to know how to interpret this. The dataset was created in October 2017 (https://data.cityofchicago.org/Transportation/Traffic-Crashes-Crashes/85ca-t3if), so it's likely that the data from before January 2018 is not recorded in the same fashion. Let's dump the pre-2018 data from our analysis. . . "
   ]
  },
  {
   "cell_type": "code",
   "execution_count": 27,
   "metadata": {},
   "outputs": [
    {
     "data": {
      "text/plain": [
       "1755"
      ]
     },
     "execution_count": 27,
     "metadata": {},
     "output_type": "execute_result"
    }
   ],
   "source": [
    "len(crashes[crashes['crash_year']<2018])"
   ]
  },
  {
   "cell_type": "markdown",
   "metadata": {},
   "source": [
    "So we're going to dump roughly 1700 records."
   ]
  },
  {
   "cell_type": "code",
   "execution_count": 28,
   "metadata": {},
   "outputs": [
    {
     "data": {
      "text/plain": [
       "8308"
      ]
     },
     "execution_count": 28,
     "metadata": {},
     "output_type": "execute_result"
    }
   ],
   "source": [
    "crashes = crashes[crashes['crash_year']>2017]\n",
    "len(crashes)"
   ]
  },
  {
   "cell_type": "code",
   "execution_count": 29,
   "metadata": {},
   "outputs": [
    {
     "data": {
      "text/plain": [
       "<AxesSubplot: title={'center': 'Annual N of Reported Crashes'}>"
      ]
     },
     "execution_count": 29,
     "metadata": {},
     "output_type": "execute_result"
    },
    {
     "data": {
      "image/png": "[encoded data removed]",
      "text/plain": [
       "<Figure size 640x480 with 1 Axes>"
      ]
     },
     "metadata": {},
     "output_type": "display_data"
    }
   ],
   "source": [
    "crashes['crash_year'].value_counts().sort_index().plot.bar(title='Annual N of Reported Crashes')"
   ]
  },
  {
   "cell_type": "markdown",
   "metadata": {},
   "source": [
    "This graph shows that there were significantly fewer crashes reported in 2020 than in the two years prior. 2021 saw an increase, but not to the prior levels.\n",
    "\n",
    "Let's break it out by month, so we can compare what's going on annually . . "
   ]
  },
  {
   "cell_type": "code",
   "execution_count": 30,
   "metadata": {},
   "outputs": [
    {
     "data": {
      "text/plain": [
       "<AxesSubplot: title={'center': 'Bicycle crashes by Month'}>"
      ]
     },
     "execution_count": 30,
     "metadata": {},
     "output_type": "execute_result"
    },
    {
     "data": {
      "image/png": "[encoded data removed]",
      "text/plain": [
       "<Figure size 640x480 with 1 Axes>"
      ]
     },
     "metadata": {},
     "output_type": "display_data"
    }
   ],
   "source": [
    "crashes['crash_month'].value_counts().sort_index().plot.bar(title='Bicycle crashes by Month')"
   ]
  },
  {
   "cell_type": "markdown",
   "metadata": {},
   "source": [
    "To do this, we can use a pivot table to summarize the data, annually and by month.\n",
    "\n",
    "In a lot of records (>2000!), the \"injuries_total\" is zero, so it's better to count them then to sum them!"
   ]
  },
  {
   "cell_type": "code",
   "execution_count": 31,
   "metadata": {},
   "outputs": [],
   "source": [
    "crashes_pivoted = crashes.pivot_table(index = 'crash_month',\n",
    "    columns = 'crash_year', \n",
    "    values = 'injuries_total',\n",
    "    aggfunc = 'count'\n",
    "    )"
   ]
  },
  {
   "cell_type": "code",
   "execution_count": 32,
   "metadata": {},
   "outputs": [
    {
     "data": {
      "text/html": [
       "<div>\n",
       "<style scoped>\n",
       "    .dataframe tbody tr th:only-of-type {\n",
       "        vertical-align: middle;\n",
       "    }\n",
       "\n",
       "    .dataframe tbody tr th {\n",
       "        vertical-align: top;\n",
       "    }\n",
       "\n",
       "    .dataframe thead th {\n",
       "        text-align: right;\n",
       "    }\n",
       "</style>\n",
       "<table border=\"1\" class=\"dataframe\">\n",
       "  <thead>\n",
       "    <tr style=\"text-align: right;\">\n",
       "      <th>crash_year</th>\n",
       "      <th>2018</th>\n",
       "      <th>2019</th>\n",
       "      <th>2020</th>\n",
       "      <th>2021</th>\n",
       "      <th>2022</th>\n",
       "    </tr>\n",
       "    <tr>\n",
       "      <th>crash_month</th>\n",
       "      <th></th>\n",
       "      <th></th>\n",
       "      <th></th>\n",
       "      <th></th>\n",
       "      <th></th>\n",
       "    </tr>\n",
       "  </thead>\n",
       "  <tbody>\n",
       "    <tr>\n",
       "      <th>1</th>\n",
       "      <td>57.0</td>\n",
       "      <td>44.0</td>\n",
       "      <td>46.0</td>\n",
       "      <td>38.0</td>\n",
       "      <td>28.0</td>\n",
       "    </tr>\n",
       "    <tr>\n",
       "      <th>2</th>\n",
       "      <td>45.0</td>\n",
       "      <td>45.0</td>\n",
       "      <td>51.0</td>\n",
       "      <td>14.0</td>\n",
       "      <td>32.0</td>\n",
       "    </tr>\n",
       "    <tr>\n",
       "      <th>3</th>\n",
       "      <td>76.0</td>\n",
       "      <td>76.0</td>\n",
       "      <td>55.0</td>\n",
       "      <td>70.0</td>\n",
       "      <td>76.0</td>\n",
       "    </tr>\n",
       "    <tr>\n",
       "      <th>4</th>\n",
       "      <td>103.0</td>\n",
       "      <td>126.0</td>\n",
       "      <td>36.0</td>\n",
       "      <td>104.0</td>\n",
       "      <td>100.0</td>\n",
       "    </tr>\n",
       "    <tr>\n",
       "      <th>5</th>\n",
       "      <td>216.0</td>\n",
       "      <td>158.0</td>\n",
       "      <td>90.0</td>\n",
       "      <td>144.0</td>\n",
       "      <td>182.0</td>\n",
       "    </tr>\n",
       "    <tr>\n",
       "      <th>6</th>\n",
       "      <td>235.0</td>\n",
       "      <td>219.0</td>\n",
       "      <td>161.0</td>\n",
       "      <td>198.0</td>\n",
       "      <td>234.0</td>\n",
       "    </tr>\n",
       "    <tr>\n",
       "      <th>7</th>\n",
       "      <td>289.0</td>\n",
       "      <td>294.0</td>\n",
       "      <td>227.0</td>\n",
       "      <td>229.0</td>\n",
       "      <td>233.0</td>\n",
       "    </tr>\n",
       "    <tr>\n",
       "      <th>8</th>\n",
       "      <td>304.0</td>\n",
       "      <td>291.0</td>\n",
       "      <td>243.0</td>\n",
       "      <td>213.0</td>\n",
       "      <td>229.0</td>\n",
       "    </tr>\n",
       "    <tr>\n",
       "      <th>9</th>\n",
       "      <td>253.0</td>\n",
       "      <td>257.0</td>\n",
       "      <td>191.0</td>\n",
       "      <td>203.0</td>\n",
       "      <td>233.0</td>\n",
       "    </tr>\n",
       "    <tr>\n",
       "      <th>10</th>\n",
       "      <td>173.0</td>\n",
       "      <td>195.0</td>\n",
       "      <td>130.0</td>\n",
       "      <td>172.0</td>\n",
       "      <td>160.0</td>\n",
       "    </tr>\n",
       "    <tr>\n",
       "      <th>11</th>\n",
       "      <td>97.0</td>\n",
       "      <td>107.0</td>\n",
       "      <td>86.0</td>\n",
       "      <td>86.0</td>\n",
       "      <td>97.0</td>\n",
       "    </tr>\n",
       "    <tr>\n",
       "      <th>12</th>\n",
       "      <td>68.0</td>\n",
       "      <td>72.0</td>\n",
       "      <td>51.0</td>\n",
       "      <td>66.0</td>\n",
       "      <td>NaN</td>\n",
       "    </tr>\n",
       "  </tbody>\n",
       "</table>\n",
       "</div>"
      ],
      "text/plain": [
       "crash_year    2018   2019   2020   2021   2022\n",
       "crash_month                                   \n",
       "1             57.0   44.0   46.0   38.0   28.0\n",
       "2             45.0   45.0   51.0   14.0   32.0\n",
       "3             76.0   76.0   55.0   70.0   76.0\n",
       "4            103.0  126.0   36.0  104.0  100.0\n",
       "5            216.0  158.0   90.0  144.0  182.0\n",
       "6            235.0  219.0  161.0  198.0  234.0\n",
       "7            289.0  294.0  227.0  229.0  233.0\n",
       "8            304.0  291.0  243.0  213.0  229.0\n",
       "9            253.0  257.0  191.0  203.0  233.0\n",
       "10           173.0  195.0  130.0  172.0  160.0\n",
       "11            97.0  107.0   86.0   86.0   97.0\n",
       "12            68.0   72.0   51.0   66.0    NaN"
      ]
     },
     "execution_count": 32,
     "metadata": {},
     "output_type": "execute_result"
    }
   ],
   "source": [
    "crashes_pivoted"
   ]
  },
  {
   "cell_type": "code",
   "execution_count": 33,
   "metadata": {},
   "outputs": [
    {
     "data": {
      "text/plain": [
       "Text(0.5, 0, 'Month of Year')"
      ]
     },
     "execution_count": 33,
     "metadata": {},
     "output_type": "execute_result"
    },
    {
     "data": {
      "image/png": "[encoded data removed]",
      "text/plain": [
       "<Figure size 1700x1000 with 1 Axes>"
      ]
     },
     "metadata": {},
     "output_type": "display_data"
    }
   ],
   "source": [
    "crashes_pivoted.plot(kind ='bar',figsize=(17,10))\n",
    "plt.ylabel('Number of injuries')\n",
    "plt.xlabel('Month of Year')\n"
   ]
  },
  {
   "cell_type": "markdown",
   "metadata": {},
   "source": [
    "This graph shows the effects of Covid on the accidents reporting starkly.\n",
    "\n",
    "Recall that in Jan and Feb, Covid was mostly seen as a foreign problem, first in China, then in Europe. On March 13, President Trump declared a nationwide emergency and states began to shutdown schools and businesses. Some states began to roll these restrictions back as early as late April, but Chicago continued to have strong restrictions throughout 2020. (https://www.cdc.gov/museum/timeline/covid19.html)\n",
    "\n",
    "This timeline is reflected in the graph above. In Jan and Feb, the N reported in 2020 was very similar to the figures from 2018 and 2019. In March, the number dips and in April and May plummets. "
   ]
  },
  {
   "cell_type": "markdown",
   "metadata": {},
   "source": [
    "Bike accident reports are not evenly distributed across the city. Rather, they tend to be clustered in certain police beats. Let's examine this."
   ]
  },
  {
   "cell_type": "code",
   "execution_count": 34,
   "metadata": {},
   "outputs": [
    {
     "data": {
      "text/plain": [
       "<AxesSubplot: title={'center': 'Pct of reports by police beat'}>"
      ]
     },
     "execution_count": 34,
     "metadata": {},
     "output_type": "execute_result"
    },
    {
     "data": {
      "image/png": "[encoded data removed]",
      "text/plain": [
       "<Figure size 640x480 with 1 Axes>"
      ]
     },
     "metadata": {},
     "output_type": "display_data"
    }
   ],
   "source": [
    "crashes['beat_of_occurrence'].value_counts().head(20).plot.barh(title='Pct of reports by police beat')"
   ]
  },
  {
   "cell_type": "markdown",
   "metadata": {},
   "source": [
    "Its clear that 1831 and 1213 are far ahead of some of the other beats. Does this vary by year? Again, we can look at this with a pivot table."
   ]
  },
  {
   "cell_type": "code",
   "execution_count": 35,
   "metadata": {},
   "outputs": [],
   "source": [
    "beats_pivoted = crashes.pivot_table(index = 'beat_of_occurrence',\n",
    "    columns = 'crash_year', \n",
    "    values = 'injuries_total',\n",
    "    aggfunc = 'count',\n",
    "    margins = True, margins_name='Total'\n",
    "    )"
   ]
  },
  {
   "cell_type": "code",
   "execution_count": 36,
   "metadata": {},
   "outputs": [
    {
     "data": {
      "text/html": [
       "<div>\n",
       "<style scoped>\n",
       "    .dataframe tbody tr th:only-of-type {\n",
       "        vertical-align: middle;\n",
       "    }\n",
       "\n",
       "    .dataframe tbody tr th {\n",
       "        vertical-align: top;\n",
       "    }\n",
       "\n",
       "    .dataframe thead th {\n",
       "        text-align: right;\n",
       "    }\n",
       "</style>\n",
       "<table border=\"1\" class=\"dataframe\">\n",
       "  <thead>\n",
       "    <tr style=\"text-align: right;\">\n",
       "      <th>crash_year</th>\n",
       "      <th>2018</th>\n",
       "      <th>2019</th>\n",
       "      <th>2020</th>\n",
       "      <th>2021</th>\n",
       "      <th>2022</th>\n",
       "      <th>Total</th>\n",
       "    </tr>\n",
       "    <tr>\n",
       "      <th>beat_of_occurrence</th>\n",
       "      <th></th>\n",
       "      <th></th>\n",
       "      <th></th>\n",
       "      <th></th>\n",
       "      <th></th>\n",
       "      <th></th>\n",
       "    </tr>\n",
       "  </thead>\n",
       "  <tbody>\n",
       "    <tr>\n",
       "      <th>111</th>\n",
       "      <td>16.0</td>\n",
       "      <td>10.0</td>\n",
       "      <td>1.0</td>\n",
       "      <td>10.0</td>\n",
       "      <td>13.0</td>\n",
       "      <td>50</td>\n",
       "    </tr>\n",
       "    <tr>\n",
       "      <th>112</th>\n",
       "      <td>8.0</td>\n",
       "      <td>10.0</td>\n",
       "      <td>1.0</td>\n",
       "      <td>11.0</td>\n",
       "      <td>7.0</td>\n",
       "      <td>37</td>\n",
       "    </tr>\n",
       "    <tr>\n",
       "      <th>113</th>\n",
       "      <td>3.0</td>\n",
       "      <td>4.0</td>\n",
       "      <td>5.0</td>\n",
       "      <td>5.0</td>\n",
       "      <td>4.0</td>\n",
       "      <td>21</td>\n",
       "    </tr>\n",
       "    <tr>\n",
       "      <th>114</th>\n",
       "      <td>13.0</td>\n",
       "      <td>16.0</td>\n",
       "      <td>12.0</td>\n",
       "      <td>15.0</td>\n",
       "      <td>10.0</td>\n",
       "      <td>66</td>\n",
       "    </tr>\n",
       "    <tr>\n",
       "      <th>121</th>\n",
       "      <td>16.0</td>\n",
       "      <td>19.0</td>\n",
       "      <td>4.0</td>\n",
       "      <td>13.0</td>\n",
       "      <td>7.0</td>\n",
       "      <td>59</td>\n",
       "    </tr>\n",
       "    <tr>\n",
       "      <th>...</th>\n",
       "      <td>...</td>\n",
       "      <td>...</td>\n",
       "      <td>...</td>\n",
       "      <td>...</td>\n",
       "      <td>...</td>\n",
       "      <td>...</td>\n",
       "    </tr>\n",
       "    <tr>\n",
       "      <th>2532</th>\n",
       "      <td>1.0</td>\n",
       "      <td>2.0</td>\n",
       "      <td>2.0</td>\n",
       "      <td>NaN</td>\n",
       "      <td>2.0</td>\n",
       "      <td>7</td>\n",
       "    </tr>\n",
       "    <tr>\n",
       "      <th>2533</th>\n",
       "      <td>7.0</td>\n",
       "      <td>7.0</td>\n",
       "      <td>4.0</td>\n",
       "      <td>11.0</td>\n",
       "      <td>7.0</td>\n",
       "      <td>36</td>\n",
       "    </tr>\n",
       "    <tr>\n",
       "      <th>2534</th>\n",
       "      <td>6.0</td>\n",
       "      <td>9.0</td>\n",
       "      <td>4.0</td>\n",
       "      <td>8.0</td>\n",
       "      <td>8.0</td>\n",
       "      <td>35</td>\n",
       "    </tr>\n",
       "    <tr>\n",
       "      <th>2535</th>\n",
       "      <td>16.0</td>\n",
       "      <td>7.0</td>\n",
       "      <td>4.0</td>\n",
       "      <td>6.0</td>\n",
       "      <td>8.0</td>\n",
       "      <td>41</td>\n",
       "    </tr>\n",
       "    <tr>\n",
       "      <th>Total</th>\n",
       "      <td>1916.0</td>\n",
       "      <td>1884.0</td>\n",
       "      <td>1367.0</td>\n",
       "      <td>1537.0</td>\n",
       "      <td>1604.0</td>\n",
       "      <td>8308</td>\n",
       "    </tr>\n",
       "  </tbody>\n",
       "</table>\n",
       "<p>270 rows × 6 columns</p>\n",
       "</div>"
      ],
      "text/plain": [
       "crash_year            2018    2019    2020    2021    2022  Total\n",
       "beat_of_occurrence                                               \n",
       "111                   16.0    10.0     1.0    10.0    13.0     50\n",
       "112                    8.0    10.0     1.0    11.0     7.0     37\n",
       "113                    3.0     4.0     5.0     5.0     4.0     21\n",
       "114                   13.0    16.0    12.0    15.0    10.0     66\n",
       "121                   16.0    19.0     4.0    13.0     7.0     59\n",
       "...                    ...     ...     ...     ...     ...    ...\n",
       "2532                   1.0     2.0     2.0     NaN     2.0      7\n",
       "2533                   7.0     7.0     4.0    11.0     7.0     36\n",
       "2534                   6.0     9.0     4.0     8.0     8.0     35\n",
       "2535                  16.0     7.0     4.0     6.0     8.0     41\n",
       "Total               1916.0  1884.0  1367.0  1537.0  1604.0   8308\n",
       "\n",
       "[270 rows x 6 columns]"
      ]
     },
     "execution_count": 36,
     "metadata": {},
     "output_type": "execute_result"
    }
   ],
   "source": [
    "beats_pivoted"
   ]
  },
  {
   "cell_type": "code",
   "execution_count": 37,
   "metadata": {},
   "outputs": [],
   "source": [
    "bp_sorted = beats_pivoted.sort_values(by=('Total'),ascending=False)"
   ]
  },
  {
   "cell_type": "code",
   "execution_count": 38,
   "metadata": {},
   "outputs": [
    {
     "data": {
      "text/plain": [
       "<AxesSubplot: ylabel='beat_of_occurrence'>"
      ]
     },
     "execution_count": 38,
     "metadata": {},
     "output_type": "execute_result"
    },
    {
     "data": {
      "image/png": "[encoded data removed]",
      "text/plain": [
       "<Figure size 1000x1700 with 1 Axes>"
      ]
     },
     "metadata": {},
     "output_type": "display_data"
    }
   ],
   "source": [
    "bp_sorted.iloc[1:21,0:5].plot(kind ='barh',figsize=(10,17))"
   ]
  },
  {
   "cell_type": "markdown",
   "metadata": {},
   "source": [
    "> How does the time of day / weather affect crashes?<br> Are the police accurate in reporting weather conditions?\n",
    "\n",
    "Let's look at 2021 to examine these questions."
   ]
  },
  {
   "cell_type": "code",
   "execution_count": 39,
   "metadata": {},
   "outputs": [],
   "source": [
    "crash21 = crashes[crashes['crash_year'] == 2021]"
   ]
  },
  {
   "cell_type": "code",
   "execution_count": 40,
   "metadata": {},
   "outputs": [
    {
     "data": {
      "text/html": [
       "<div>\n",
       "<style scoped>\n",
       "    .dataframe tbody tr th:only-of-type {\n",
       "        vertical-align: middle;\n",
       "    }\n",
       "\n",
       "    .dataframe tbody tr th {\n",
       "        vertical-align: top;\n",
       "    }\n",
       "\n",
       "    .dataframe thead th {\n",
       "        text-align: right;\n",
       "    }\n",
       "</style>\n",
       "<table border=\"1\" class=\"dataframe\">\n",
       "  <thead>\n",
       "    <tr style=\"text-align: right;\">\n",
       "      <th></th>\n",
       "      <th>crash_record_id</th>\n",
       "      <th>crash_date</th>\n",
       "      <th>posted_speed_limit</th>\n",
       "      <th>traffic_control_device</th>\n",
       "      <th>device_condition</th>\n",
       "      <th>weather_condition</th>\n",
       "      <th>lighting_condition</th>\n",
       "      <th>first_crash_type</th>\n",
       "      <th>trafficway_type</th>\n",
       "      <th>alignment</th>\n",
       "      <th>...</th>\n",
       "      <th>statements_taken_i</th>\n",
       "      <th>rd_no</th>\n",
       "      <th>crash_date_est_i</th>\n",
       "      <th>private_property_i</th>\n",
       "      <th>photos_taken_i</th>\n",
       "      <th>work_zone_i</th>\n",
       "      <th>work_zone_type</th>\n",
       "      <th>workers_present_i</th>\n",
       "      <th>lane_cnt</th>\n",
       "      <th>crash_year</th>\n",
       "    </tr>\n",
       "  </thead>\n",
       "  <tbody>\n",
       "    <tr>\n",
       "      <th>1604</th>\n",
       "      <td>4603435fbb4ef5d45c0d805c3e9aa5558a311a140a737e...</td>\n",
       "      <td>2021-12-31 13:46:00</td>\n",
       "      <td>30</td>\n",
       "      <td>NO CONTROLS</td>\n",
       "      <td>NO CONTROLS</td>\n",
       "      <td>RAIN</td>\n",
       "      <td>DAYLIGHT</td>\n",
       "      <td>PEDALCYCLIST</td>\n",
       "      <td>DIVIDED - W/MEDIAN BARRIER</td>\n",
       "      <td>STRAIGHT AND LEVEL</td>\n",
       "      <td>...</td>\n",
       "      <td>NaN</td>\n",
       "      <td>JE494049</td>\n",
       "      <td>NaN</td>\n",
       "      <td>NaN</td>\n",
       "      <td>NaN</td>\n",
       "      <td>NaN</td>\n",
       "      <td>NaN</td>\n",
       "      <td>NaN</td>\n",
       "      <td>NaN</td>\n",
       "      <td>2021</td>\n",
       "    </tr>\n",
       "    <tr>\n",
       "      <th>1605</th>\n",
       "      <td>38459767b9b1a9bc1faed4a942998a04b6e29aa369541f...</td>\n",
       "      <td>2021-12-30 16:30:00</td>\n",
       "      <td>30</td>\n",
       "      <td>UNKNOWN</td>\n",
       "      <td>UNKNOWN</td>\n",
       "      <td>CLEAR</td>\n",
       "      <td>UNKNOWN</td>\n",
       "      <td>PEDALCYCLIST</td>\n",
       "      <td>NOT DIVIDED</td>\n",
       "      <td>STRAIGHT AND LEVEL</td>\n",
       "      <td>...</td>\n",
       "      <td>NaN</td>\n",
       "      <td>JE493188</td>\n",
       "      <td>NaN</td>\n",
       "      <td>NaN</td>\n",
       "      <td>NaN</td>\n",
       "      <td>NaN</td>\n",
       "      <td>NaN</td>\n",
       "      <td>NaN</td>\n",
       "      <td>NaN</td>\n",
       "      <td>2021</td>\n",
       "    </tr>\n",
       "    <tr>\n",
       "      <th>1606</th>\n",
       "      <td>39504218c0295e46e36c845c09dea92af78a1a096c59ca...</td>\n",
       "      <td>2021-12-29 14:28:00</td>\n",
       "      <td>30</td>\n",
       "      <td>TRAFFIC SIGNAL</td>\n",
       "      <td>FUNCTIONING PROPERLY</td>\n",
       "      <td>CLEAR</td>\n",
       "      <td>DAYLIGHT</td>\n",
       "      <td>PEDALCYCLIST</td>\n",
       "      <td>FOUR WAY</td>\n",
       "      <td>STRAIGHT AND LEVEL</td>\n",
       "      <td>...</td>\n",
       "      <td>NaN</td>\n",
       "      <td>JE492056</td>\n",
       "      <td>NaN</td>\n",
       "      <td>NaN</td>\n",
       "      <td>NaN</td>\n",
       "      <td>NaN</td>\n",
       "      <td>NaN</td>\n",
       "      <td>NaN</td>\n",
       "      <td>NaN</td>\n",
       "      <td>2021</td>\n",
       "    </tr>\n",
       "  </tbody>\n",
       "</table>\n",
       "<p>3 rows × 50 columns</p>\n",
       "</div>"
      ],
      "text/plain": [
       "                                        crash_record_id          crash_date  \\\n",
       "1604  4603435fbb4ef5d45c0d805c3e9aa5558a311a140a737e... 2021-12-31 13:46:00   \n",
       "1605  38459767b9b1a9bc1faed4a942998a04b6e29aa369541f... 2021-12-30 16:30:00   \n",
       "1606  39504218c0295e46e36c845c09dea92af78a1a096c59ca... 2021-12-29 14:28:00   \n",
       "\n",
       "      posted_speed_limit traffic_control_device      device_condition  \\\n",
       "1604                  30            NO CONTROLS           NO CONTROLS   \n",
       "1605                  30                UNKNOWN               UNKNOWN   \n",
       "1606                  30         TRAFFIC SIGNAL  FUNCTIONING PROPERLY   \n",
       "\n",
       "     weather_condition lighting_condition first_crash_type  \\\n",
       "1604              RAIN           DAYLIGHT     PEDALCYCLIST   \n",
       "1605             CLEAR            UNKNOWN     PEDALCYCLIST   \n",
       "1606             CLEAR           DAYLIGHT     PEDALCYCLIST   \n",
       "\n",
       "                 trafficway_type           alignment  ... statements_taken_i  \\\n",
       "1604  DIVIDED - W/MEDIAN BARRIER  STRAIGHT AND LEVEL  ...                NaN   \n",
       "1605                 NOT DIVIDED  STRAIGHT AND LEVEL  ...                NaN   \n",
       "1606                    FOUR WAY  STRAIGHT AND LEVEL  ...                NaN   \n",
       "\n",
       "         rd_no crash_date_est_i private_property_i photos_taken_i work_zone_i  \\\n",
       "1604  JE494049              NaN                NaN            NaN         NaN   \n",
       "1605  JE493188              NaN                NaN            NaN         NaN   \n",
       "1606  JE492056              NaN                NaN            NaN         NaN   \n",
       "\n",
       "     work_zone_type workers_present_i lane_cnt crash_year  \n",
       "1604            NaN               NaN      NaN       2021  \n",
       "1605            NaN               NaN      NaN       2021  \n",
       "1606            NaN               NaN      NaN       2021  \n",
       "\n",
       "[3 rows x 50 columns]"
      ]
     },
     "execution_count": 40,
     "metadata": {},
     "output_type": "execute_result"
    }
   ],
   "source": [
    "crash21.head(3)"
   ]
  },
  {
   "cell_type": "code",
   "execution_count": 41,
   "metadata": {},
   "outputs": [
    {
     "data": {
      "text/plain": [
       "Y    42\n",
       "N     4\n",
       "Name: statements_taken_i, dtype: int64"
      ]
     },
     "execution_count": 41,
     "metadata": {},
     "output_type": "execute_result"
    }
   ],
   "source": [
    "crash21['statements_taken_i'].value_counts()"
   ]
  },
  {
   "cell_type": "code",
   "execution_count": 43,
   "metadata": {},
   "outputs": [],
   "source": [
    "pd.options.display.max_rows = 600\n",
    "pd.options.display.max_colwidth = 400"
   ]
  },
  {
   "cell_type": "code",
   "execution_count": 45,
   "metadata": {},
   "outputs": [
    {
     "data": {
      "text/html": [
       "<div>\n",
       "<style scoped>\n",
       "    .dataframe tbody tr th:only-of-type {\n",
       "        vertical-align: middle;\n",
       "    }\n",
       "\n",
       "    .dataframe tbody tr th {\n",
       "        vertical-align: top;\n",
       "    }\n",
       "\n",
       "    .dataframe thead th {\n",
       "        text-align: right;\n",
       "    }\n",
       "</style>\n",
       "<table border=\"1\" class=\"dataframe\">\n",
       "  <thead>\n",
       "    <tr style=\"text-align: right;\">\n",
       "      <th></th>\n",
       "      <th>crash_record_id</th>\n",
       "      <th>crash_date</th>\n",
       "      <th>posted_speed_limit</th>\n",
       "      <th>traffic_control_device</th>\n",
       "      <th>device_condition</th>\n",
       "      <th>weather_condition</th>\n",
       "      <th>lighting_condition</th>\n",
       "      <th>first_crash_type</th>\n",
       "      <th>trafficway_type</th>\n",
       "      <th>alignment</th>\n",
       "      <th>...</th>\n",
       "      <th>statements_taken_i</th>\n",
       "      <th>rd_no</th>\n",
       "      <th>crash_date_est_i</th>\n",
       "      <th>private_property_i</th>\n",
       "      <th>photos_taken_i</th>\n",
       "      <th>work_zone_i</th>\n",
       "      <th>work_zone_type</th>\n",
       "      <th>workers_present_i</th>\n",
       "      <th>lane_cnt</th>\n",
       "      <th>crash_year</th>\n",
       "    </tr>\n",
       "  </thead>\n",
       "  <tbody>\n",
       "    <tr>\n",
       "      <th>1640</th>\n",
       "      <td>53531e4027c00300354e3cb66d57bea2e36c7ef66b40643f4c197fd3ed1d4657f9434b15b8465ebc963ef4d1bd883c4faedb13fbf8527d54199e969d0da01af9</td>\n",
       "      <td>2021-12-10 10:20:00</td>\n",
       "      <td>35</td>\n",
       "      <td>NO CONTROLS</td>\n",
       "      <td>NO CONTROLS</td>\n",
       "      <td>CLEAR</td>\n",
       "      <td>DAYLIGHT</td>\n",
       "      <td>PEDALCYCLIST</td>\n",
       "      <td>DIVIDED - W/MEDIAN (NOT RAISED)</td>\n",
       "      <td>STRAIGHT ON GRADE</td>\n",
       "      <td>...</td>\n",
       "      <td>Y</td>\n",
       "      <td>JE472385</td>\n",
       "      <td>NaN</td>\n",
       "      <td>NaN</td>\n",
       "      <td>NaN</td>\n",
       "      <td>NaN</td>\n",
       "      <td>NaN</td>\n",
       "      <td>NaN</td>\n",
       "      <td>NaN</td>\n",
       "      <td>2021</td>\n",
       "    </tr>\n",
       "    <tr>\n",
       "      <th>1647</th>\n",
       "      <td>ecd4180e2569076913cf4d1eddd7d3030b76474e5c38c581dcda4c56e3d09f86805d58674761fce621bc4dbbeeda3e395b8691ce7cf0d350f1ea4e73239534f3</td>\n",
       "      <td>2021-12-07 16:49:00</td>\n",
       "      <td>30</td>\n",
       "      <td>TRAFFIC SIGNAL</td>\n",
       "      <td>FUNCTIONING PROPERLY</td>\n",
       "      <td>CLEAR</td>\n",
       "      <td>DARKNESS, LIGHTED ROAD</td>\n",
       "      <td>PEDALCYCLIST</td>\n",
       "      <td>T-INTERSECTION</td>\n",
       "      <td>STRAIGHT AND LEVEL</td>\n",
       "      <td>...</td>\n",
       "      <td>Y</td>\n",
       "      <td>JE469591</td>\n",
       "      <td>NaN</td>\n",
       "      <td>NaN</td>\n",
       "      <td>NaN</td>\n",
       "      <td>NaN</td>\n",
       "      <td>NaN</td>\n",
       "      <td>NaN</td>\n",
       "      <td>NaN</td>\n",
       "      <td>2021</td>\n",
       "    </tr>\n",
       "    <tr>\n",
       "      <th>1670</th>\n",
       "      <td>905a01840212a61de466903eadc80b72113a6f418e3265a624a6191f0cd5233fd320405054486761a5ecbfaaf0f97bffd58269555d5be642243d8ef2ceba69e0</td>\n",
       "      <td>2021-11-30 19:09:00</td>\n",
       "      <td>25</td>\n",
       "      <td>NO CONTROLS</td>\n",
       "      <td>NO CONTROLS</td>\n",
       "      <td>CLEAR</td>\n",
       "      <td>DARKNESS, LIGHTED ROAD</td>\n",
       "      <td>PEDALCYCLIST</td>\n",
       "      <td>NOT DIVIDED</td>\n",
       "      <td>STRAIGHT AND LEVEL</td>\n",
       "      <td>...</td>\n",
       "      <td>Y</td>\n",
       "      <td>JE461767</td>\n",
       "      <td>NaN</td>\n",
       "      <td>NaN</td>\n",
       "      <td>NaN</td>\n",
       "      <td>NaN</td>\n",
       "      <td>NaN</td>\n",
       "      <td>NaN</td>\n",
       "      <td>NaN</td>\n",
       "      <td>2021</td>\n",
       "    </tr>\n",
       "    <tr>\n",
       "      <th>1762</th>\n",
       "      <td>7dbaa670b350388c5b2a67c8c84b1e203ae8f7ff0ce55e7da89ea18e36188cabee2a6cfad8f6492fb302e9ea5bc47f866a33dd8ad793abf72fe73bed731e372a</td>\n",
       "      <td>2021-10-31 11:00:00</td>\n",
       "      <td>35</td>\n",
       "      <td>TRAFFIC SIGNAL</td>\n",
       "      <td>FUNCTIONING PROPERLY</td>\n",
       "      <td>CLEAR</td>\n",
       "      <td>DAYLIGHT</td>\n",
       "      <td>PEDALCYCLIST</td>\n",
       "      <td>NOT DIVIDED</td>\n",
       "      <td>STRAIGHT AND LEVEL</td>\n",
       "      <td>...</td>\n",
       "      <td>Y</td>\n",
       "      <td>JE428872</td>\n",
       "      <td>NaN</td>\n",
       "      <td>NaN</td>\n",
       "      <td>NaN</td>\n",
       "      <td>NaN</td>\n",
       "      <td>NaN</td>\n",
       "      <td>NaN</td>\n",
       "      <td>NaN</td>\n",
       "      <td>2021</td>\n",
       "    </tr>\n",
       "    <tr>\n",
       "      <th>1763</th>\n",
       "      <td>aeae6291505dbac1a9ffde241d7cedb174268286719e7af6ebc99d4c944ae993e3252710207f315d9d72299059811986fa2f40b8b73fdbfc1e4af4fa4330d2b6</td>\n",
       "      <td>2021-10-31 10:45:00</td>\n",
       "      <td>20</td>\n",
       "      <td>STOP SIGN/FLASHER</td>\n",
       "      <td>FUNCTIONING PROPERLY</td>\n",
       "      <td>CLEAR</td>\n",
       "      <td>DAYLIGHT</td>\n",
       "      <td>PEDALCYCLIST</td>\n",
       "      <td>DIVIDED - W/MEDIAN (NOT RAISED)</td>\n",
       "      <td>STRAIGHT AND LEVEL</td>\n",
       "      <td>...</td>\n",
       "      <td>Y</td>\n",
       "      <td>JE428868</td>\n",
       "      <td>NaN</td>\n",
       "      <td>NaN</td>\n",
       "      <td>NaN</td>\n",
       "      <td>NaN</td>\n",
       "      <td>NaN</td>\n",
       "      <td>NaN</td>\n",
       "      <td>NaN</td>\n",
       "      <td>2021</td>\n",
       "    </tr>\n",
       "  </tbody>\n",
       "</table>\n",
       "<p>5 rows × 50 columns</p>\n",
       "</div>"
      ],
      "text/plain": [
       "                                                                                                                       crash_record_id  \\\n",
       "1640  53531e4027c00300354e3cb66d57bea2e36c7ef66b40643f4c197fd3ed1d4657f9434b15b8465ebc963ef4d1bd883c4faedb13fbf8527d54199e969d0da01af9   \n",
       "1647  ecd4180e2569076913cf4d1eddd7d3030b76474e5c38c581dcda4c56e3d09f86805d58674761fce621bc4dbbeeda3e395b8691ce7cf0d350f1ea4e73239534f3   \n",
       "1670  905a01840212a61de466903eadc80b72113a6f418e3265a624a6191f0cd5233fd320405054486761a5ecbfaaf0f97bffd58269555d5be642243d8ef2ceba69e0   \n",
       "1762  7dbaa670b350388c5b2a67c8c84b1e203ae8f7ff0ce55e7da89ea18e36188cabee2a6cfad8f6492fb302e9ea5bc47f866a33dd8ad793abf72fe73bed731e372a   \n",
       "1763  aeae6291505dbac1a9ffde241d7cedb174268286719e7af6ebc99d4c944ae993e3252710207f315d9d72299059811986fa2f40b8b73fdbfc1e4af4fa4330d2b6   \n",
       "\n",
       "              crash_date  posted_speed_limit traffic_control_device  \\\n",
       "1640 2021-12-10 10:20:00                  35            NO CONTROLS   \n",
       "1647 2021-12-07 16:49:00                  30         TRAFFIC SIGNAL   \n",
       "1670 2021-11-30 19:09:00                  25            NO CONTROLS   \n",
       "1762 2021-10-31 11:00:00                  35         TRAFFIC SIGNAL   \n",
       "1763 2021-10-31 10:45:00                  20      STOP SIGN/FLASHER   \n",
       "\n",
       "          device_condition weather_condition      lighting_condition  \\\n",
       "1640           NO CONTROLS             CLEAR                DAYLIGHT   \n",
       "1647  FUNCTIONING PROPERLY             CLEAR  DARKNESS, LIGHTED ROAD   \n",
       "1670           NO CONTROLS             CLEAR  DARKNESS, LIGHTED ROAD   \n",
       "1762  FUNCTIONING PROPERLY             CLEAR                DAYLIGHT   \n",
       "1763  FUNCTIONING PROPERLY             CLEAR                DAYLIGHT   \n",
       "\n",
       "     first_crash_type                  trafficway_type           alignment  \\\n",
       "1640     PEDALCYCLIST  DIVIDED - W/MEDIAN (NOT RAISED)   STRAIGHT ON GRADE   \n",
       "1647     PEDALCYCLIST                   T-INTERSECTION  STRAIGHT AND LEVEL   \n",
       "1670     PEDALCYCLIST                      NOT DIVIDED  STRAIGHT AND LEVEL   \n",
       "1762     PEDALCYCLIST                      NOT DIVIDED  STRAIGHT AND LEVEL   \n",
       "1763     PEDALCYCLIST  DIVIDED - W/MEDIAN (NOT RAISED)  STRAIGHT AND LEVEL   \n",
       "\n",
       "      ... statements_taken_i     rd_no crash_date_est_i private_property_i  \\\n",
       "1640  ...                  Y  JE472385              NaN                NaN   \n",
       "1647  ...                  Y  JE469591              NaN                NaN   \n",
       "1670  ...                  Y  JE461767              NaN                NaN   \n",
       "1762  ...                  Y  JE428872              NaN                NaN   \n",
       "1763  ...                  Y  JE428868              NaN                NaN   \n",
       "\n",
       "     photos_taken_i work_zone_i work_zone_type workers_present_i lane_cnt  \\\n",
       "1640            NaN         NaN            NaN               NaN      NaN   \n",
       "1647            NaN         NaN            NaN               NaN      NaN   \n",
       "1670            NaN         NaN            NaN               NaN      NaN   \n",
       "1762            NaN         NaN            NaN               NaN      NaN   \n",
       "1763            NaN         NaN            NaN               NaN      NaN   \n",
       "\n",
       "     crash_year  \n",
       "1640       2021  \n",
       "1647       2021  \n",
       "1670       2021  \n",
       "1762       2021  \n",
       "1763       2021  \n",
       "\n",
       "[5 rows x 50 columns]"
      ]
     },
     "execution_count": 45,
     "metadata": {},
     "output_type": "execute_result"
    }
   ],
   "source": [
    "crash21[crash21['statements_taken_i'] == \"Y\"].head(5)"
   ]
  },
  {
   "cell_type": "code",
   "execution_count": 47,
   "metadata": {},
   "outputs": [
    {
     "name": "stdout",
     "output_type": "stream",
     "text": [
      "DAYLIGHT                  1113\n",
      "DARKNESS, LIGHTED ROAD     291\n",
      "DUSK                        48\n",
      "DARKNESS                    38\n",
      "UNKNOWN                     24\n",
      "DAWN                        23\n",
      "Name: lighting_condition, dtype: int64\n",
      "CLEAR                    1344\n",
      "RAIN                      101\n",
      "UNKNOWN                    44\n",
      "CLOUDY/OVERCAST            39\n",
      "SNOW                        5\n",
      "FREEZING RAIN/DRIZZLE       3\n",
      "OTHER                       1\n",
      "Name: weather_condition, dtype: int64\n",
      "30    1220\n",
      "25     114\n",
      "35      87\n",
      "20      56\n",
      "15      38\n",
      "10      12\n",
      "0        4\n",
      "45       2\n",
      "24       1\n",
      "40       1\n",
      "5        1\n",
      "2        1\n",
      "Name: posted_speed_limit, dtype: int64\n",
      "STRAIGHT AND LEVEL       1504\n",
      "STRAIGHT ON GRADE          25\n",
      "STRAIGHT ON HILLCREST       5\n",
      "CURVE, LEVEL                3\n",
      "Name: alignment, dtype: int64\n",
      "JE494049    1\n",
      "JE317804    1\n",
      "JE272503    1\n",
      "JE273231    1\n",
      "JE273440    1\n",
      "           ..\n",
      "JE360408    1\n",
      "JE360558    1\n",
      "JE360641    1\n",
      "JE360823    1\n",
      "JE100653    1\n",
      "Name: rd_no, Length: 1537, dtype: int64\n",
      "Y    12\n",
      "N     5\n",
      "Name: photos_taken_i, dtype: int64\n"
     ]
    }
   ],
   "source": [
    "headings = ['lighting_condition','weather_condition','posted_speed_limit','alignment','rd_no','photos_taken_i']\n",
    "for head in headings:\n",
    "    print(crash21[head].value_counts())"
   ]
  },
  {
   "cell_type": "code",
   "execution_count": 49,
   "metadata": {},
   "outputs": [
    {
     "data": {
      "text/html": [
       "<div>\n",
       "<style scoped>\n",
       "    .dataframe tbody tr th:only-of-type {\n",
       "        vertical-align: middle;\n",
       "    }\n",
       "\n",
       "    .dataframe tbody tr th {\n",
       "        vertical-align: top;\n",
       "    }\n",
       "\n",
       "    .dataframe thead th {\n",
       "        text-align: right;\n",
       "    }\n",
       "</style>\n",
       "<table border=\"1\" class=\"dataframe\">\n",
       "  <thead>\n",
       "    <tr style=\"text-align: right;\">\n",
       "      <th></th>\n",
       "      <th>crash_record_id</th>\n",
       "      <th>crash_date</th>\n",
       "      <th>posted_speed_limit</th>\n",
       "      <th>traffic_control_device</th>\n",
       "      <th>device_condition</th>\n",
       "      <th>weather_condition</th>\n",
       "      <th>lighting_condition</th>\n",
       "      <th>first_crash_type</th>\n",
       "      <th>trafficway_type</th>\n",
       "      <th>alignment</th>\n",
       "      <th>...</th>\n",
       "      <th>statements_taken_i</th>\n",
       "      <th>rd_no</th>\n",
       "      <th>crash_date_est_i</th>\n",
       "      <th>private_property_i</th>\n",
       "      <th>photos_taken_i</th>\n",
       "      <th>work_zone_i</th>\n",
       "      <th>work_zone_type</th>\n",
       "      <th>workers_present_i</th>\n",
       "      <th>lane_cnt</th>\n",
       "      <th>crash_year</th>\n",
       "    </tr>\n",
       "  </thead>\n",
       "  <tbody>\n",
       "    <tr>\n",
       "      <th>1604</th>\n",
       "      <td>4603435fbb4ef5d45c0d805c3e9aa5558a311a140a737e37aa56d4f70ea0161f8f2e187270d33f36070c6a1b0f0c26401d0f0ad8b3f9dae797f8041f754d6297</td>\n",
       "      <td>2021-12-31 13:46:00</td>\n",
       "      <td>30</td>\n",
       "      <td>NO CONTROLS</td>\n",
       "      <td>NO CONTROLS</td>\n",
       "      <td>RAIN</td>\n",
       "      <td>DAYLIGHT</td>\n",
       "      <td>PEDALCYCLIST</td>\n",
       "      <td>DIVIDED - W/MEDIAN BARRIER</td>\n",
       "      <td>STRAIGHT AND LEVEL</td>\n",
       "      <td>...</td>\n",
       "      <td>NaN</td>\n",
       "      <td>JE494049</td>\n",
       "      <td>NaN</td>\n",
       "      <td>NaN</td>\n",
       "      <td>NaN</td>\n",
       "      <td>NaN</td>\n",
       "      <td>NaN</td>\n",
       "      <td>NaN</td>\n",
       "      <td>NaN</td>\n",
       "      <td>2021</td>\n",
       "    </tr>\n",
       "    <tr>\n",
       "      <th>1608</th>\n",
       "      <td>69d7b94e1fedc18c90e4f82830cbdc66229d9d924add0eabab78552736c745b177313a182a8757262c0c6dc2447e69aae11136c5ac276163eafc0b844ffa7559</td>\n",
       "      <td>2021-12-27 09:10:00</td>\n",
       "      <td>30</td>\n",
       "      <td>TRAFFIC SIGNAL</td>\n",
       "      <td>FUNCTIONING PROPERLY</td>\n",
       "      <td>RAIN</td>\n",
       "      <td>DAYLIGHT</td>\n",
       "      <td>PEDALCYCLIST</td>\n",
       "      <td>FOUR WAY</td>\n",
       "      <td>STRAIGHT AND LEVEL</td>\n",
       "      <td>...</td>\n",
       "      <td>NaN</td>\n",
       "      <td>JE489861</td>\n",
       "      <td>NaN</td>\n",
       "      <td>NaN</td>\n",
       "      <td>NaN</td>\n",
       "      <td>NaN</td>\n",
       "      <td>NaN</td>\n",
       "      <td>NaN</td>\n",
       "      <td>NaN</td>\n",
       "      <td>2021</td>\n",
       "    </tr>\n",
       "    <tr>\n",
       "      <th>1625</th>\n",
       "      <td>0ee18d13dfcd5d09e35be73fb5e070ba623d33355224fbb23fef590805a57653372bb79ac7be359e273d69cf66af591941e70ad2751e35d106759eba9a5f92bf</td>\n",
       "      <td>2021-12-14 21:00:00</td>\n",
       "      <td>20</td>\n",
       "      <td>STOP SIGN/FLASHER</td>\n",
       "      <td>FUNCTIONING PROPERLY</td>\n",
       "      <td>RAIN</td>\n",
       "      <td>DARKNESS, LIGHTED ROAD</td>\n",
       "      <td>PEDALCYCLIST</td>\n",
       "      <td>NOT DIVIDED</td>\n",
       "      <td>STRAIGHT AND LEVEL</td>\n",
       "      <td>...</td>\n",
       "      <td>NaN</td>\n",
       "      <td>JE477739</td>\n",
       "      <td>NaN</td>\n",
       "      <td>NaN</td>\n",
       "      <td>NaN</td>\n",
       "      <td>NaN</td>\n",
       "      <td>NaN</td>\n",
       "      <td>NaN</td>\n",
       "      <td>NaN</td>\n",
       "      <td>2021</td>\n",
       "    </tr>\n",
       "    <tr>\n",
       "      <th>1638</th>\n",
       "      <td>8d272e0b17c3c0f52e34ef91eb64d94a6847f2375e35ad506c0f152366b171fda437a4e9a669666db0cc3824b1ea08dd0ea67e416c094964ffa3a869fb5bb135</td>\n",
       "      <td>2021-12-10 19:26:00</td>\n",
       "      <td>35</td>\n",
       "      <td>TRAFFIC SIGNAL</td>\n",
       "      <td>FUNCTIONING PROPERLY</td>\n",
       "      <td>RAIN</td>\n",
       "      <td>DARKNESS, LIGHTED ROAD</td>\n",
       "      <td>PEDALCYCLIST</td>\n",
       "      <td>NOT DIVIDED</td>\n",
       "      <td>STRAIGHT AND LEVEL</td>\n",
       "      <td>...</td>\n",
       "      <td>NaN</td>\n",
       "      <td>JE473100</td>\n",
       "      <td>NaN</td>\n",
       "      <td>NaN</td>\n",
       "      <td>NaN</td>\n",
       "      <td>NaN</td>\n",
       "      <td>NaN</td>\n",
       "      <td>NaN</td>\n",
       "      <td>NaN</td>\n",
       "      <td>2021</td>\n",
       "    </tr>\n",
       "    <tr>\n",
       "      <th>1639</th>\n",
       "      <td>b518490c791bf6b75a8958b503a2999fd824ba8fabdba5305d7e95e51e59fa43e08ce608f87b4395dbebd1165662a310f12da2040f7a50ee2fd240cb52b9e1bf</td>\n",
       "      <td>2021-12-10 18:30:00</td>\n",
       "      <td>35</td>\n",
       "      <td>TRAFFIC SIGNAL</td>\n",
       "      <td>NO CONTROLS</td>\n",
       "      <td>RAIN</td>\n",
       "      <td>DARKNESS</td>\n",
       "      <td>PEDALCYCLIST</td>\n",
       "      <td>ONE-WAY</td>\n",
       "      <td>STRAIGHT AND LEVEL</td>\n",
       "      <td>...</td>\n",
       "      <td>NaN</td>\n",
       "      <td>JE476355</td>\n",
       "      <td>NaN</td>\n",
       "      <td>NaN</td>\n",
       "      <td>NaN</td>\n",
       "      <td>NaN</td>\n",
       "      <td>NaN</td>\n",
       "      <td>NaN</td>\n",
       "      <td>NaN</td>\n",
       "      <td>2021</td>\n",
       "    </tr>\n",
       "  </tbody>\n",
       "</table>\n",
       "<p>5 rows × 50 columns</p>\n",
       "</div>"
      ],
      "text/plain": [
       "                                                                                                                       crash_record_id  \\\n",
       "1604  4603435fbb4ef5d45c0d805c3e9aa5558a311a140a737e37aa56d4f70ea0161f8f2e187270d33f36070c6a1b0f0c26401d0f0ad8b3f9dae797f8041f754d6297   \n",
       "1608  69d7b94e1fedc18c90e4f82830cbdc66229d9d924add0eabab78552736c745b177313a182a8757262c0c6dc2447e69aae11136c5ac276163eafc0b844ffa7559   \n",
       "1625  0ee18d13dfcd5d09e35be73fb5e070ba623d33355224fbb23fef590805a57653372bb79ac7be359e273d69cf66af591941e70ad2751e35d106759eba9a5f92bf   \n",
       "1638  8d272e0b17c3c0f52e34ef91eb64d94a6847f2375e35ad506c0f152366b171fda437a4e9a669666db0cc3824b1ea08dd0ea67e416c094964ffa3a869fb5bb135   \n",
       "1639  b518490c791bf6b75a8958b503a2999fd824ba8fabdba5305d7e95e51e59fa43e08ce608f87b4395dbebd1165662a310f12da2040f7a50ee2fd240cb52b9e1bf   \n",
       "\n",
       "              crash_date  posted_speed_limit traffic_control_device  \\\n",
       "1604 2021-12-31 13:46:00                  30            NO CONTROLS   \n",
       "1608 2021-12-27 09:10:00                  30         TRAFFIC SIGNAL   \n",
       "1625 2021-12-14 21:00:00                  20      STOP SIGN/FLASHER   \n",
       "1638 2021-12-10 19:26:00                  35         TRAFFIC SIGNAL   \n",
       "1639 2021-12-10 18:30:00                  35         TRAFFIC SIGNAL   \n",
       "\n",
       "          device_condition weather_condition      lighting_condition  \\\n",
       "1604           NO CONTROLS              RAIN                DAYLIGHT   \n",
       "1608  FUNCTIONING PROPERLY              RAIN                DAYLIGHT   \n",
       "1625  FUNCTIONING PROPERLY              RAIN  DARKNESS, LIGHTED ROAD   \n",
       "1638  FUNCTIONING PROPERLY              RAIN  DARKNESS, LIGHTED ROAD   \n",
       "1639           NO CONTROLS              RAIN                DARKNESS   \n",
       "\n",
       "     first_crash_type             trafficway_type           alignment  ...  \\\n",
       "1604     PEDALCYCLIST  DIVIDED - W/MEDIAN BARRIER  STRAIGHT AND LEVEL  ...   \n",
       "1608     PEDALCYCLIST                    FOUR WAY  STRAIGHT AND LEVEL  ...   \n",
       "1625     PEDALCYCLIST                 NOT DIVIDED  STRAIGHT AND LEVEL  ...   \n",
       "1638     PEDALCYCLIST                 NOT DIVIDED  STRAIGHT AND LEVEL  ...   \n",
       "1639     PEDALCYCLIST                     ONE-WAY  STRAIGHT AND LEVEL  ...   \n",
       "\n",
       "     statements_taken_i     rd_no crash_date_est_i private_property_i  \\\n",
       "1604                NaN  JE494049              NaN                NaN   \n",
       "1608                NaN  JE489861              NaN                NaN   \n",
       "1625                NaN  JE477739              NaN                NaN   \n",
       "1638                NaN  JE473100              NaN                NaN   \n",
       "1639                NaN  JE476355              NaN                NaN   \n",
       "\n",
       "     photos_taken_i work_zone_i work_zone_type workers_present_i lane_cnt  \\\n",
       "1604            NaN         NaN            NaN               NaN      NaN   \n",
       "1608            NaN         NaN            NaN               NaN      NaN   \n",
       "1625            NaN         NaN            NaN               NaN      NaN   \n",
       "1638            NaN         NaN            NaN               NaN      NaN   \n",
       "1639            NaN         NaN            NaN               NaN      NaN   \n",
       "\n",
       "     crash_year  \n",
       "1604       2021  \n",
       "1608       2021  \n",
       "1625       2021  \n",
       "1638       2021  \n",
       "1639       2021  \n",
       "\n",
       "[5 rows x 50 columns]"
      ]
     },
     "execution_count": 49,
     "metadata": {},
     "output_type": "execute_result"
    }
   ],
   "source": [
    "rainy = crash21[crash21['weather_condition']=='RAIN']\n",
    "rainy.head(5)"
   ]
  },
  {
   "cell_type": "code",
   "execution_count": 52,
   "metadata": {},
   "outputs": [
    {
     "data": {
      "text/plain": [
       "1604    {'type': 'Point', 'coordinates': [-87.578269718478, 41.766335621716]}\n",
       "1608    {'type': 'Point', 'coordinates': [-87.649787129108, 41.779581012899]}\n",
       "1625    {'type': 'Point', 'coordinates': [-87.766869741854, 41.918941942487]}\n",
       "Name: location, dtype: object"
      ]
     },
     "execution_count": 52,
     "metadata": {},
     "output_type": "execute_result"
    }
   ],
   "source": [
    "rainy['location'].head(3)"
   ]
  },
  {
   "cell_type": "code",
   "execution_count": 58,
   "metadata": {},
   "outputs": [
    {
     "data": {
      "text/plain": [
       "1604    41.766336\n",
       "Name: latitude, dtype: float64"
      ]
     },
     "execution_count": 58,
     "metadata": {},
     "output_type": "execute_result"
    }
   ],
   "source": [
    "rainy['latitude'].head(1)"
   ]
  },
  {
   "cell_type": "code",
   "execution_count": 123,
   "metadata": {},
   "outputs": [],
   "source": [
    "def weatherLookup(lat,lon,dateTime,APIkey=weatherAPIkey):\n",
    "    import urllib\n",
    "    import json\n",
    "    latS, lonS  = str(lat), str(lon)\n",
    "    dateTimeS = dateTime.strftime('%Y-%m-%dT%H:%M:%S')\n",
    "    ApiQuery = 'https://weather.visualcrossing.com/VisualCrossingWebServices/rest/services/timeline/'+\\\n",
    "            latS+'%2C'+lonS+'/'+dateTimeS+'?unitGroup=us&key='+APIkey+'&include=current&contentType=json'\n",
    "    try: \n",
    "        with urllib.request.urlopen(ApiQuery) as response:\n",
    "            html = response.read()\n",
    "    except urllib.error.HTTPError  as e:\n",
    "        ErrorInfo= e.read().decode() \n",
    "        print('Error code: ', e.code, ErrorInfo)\n",
    "        sys.exit()\n",
    "    except  urllib.error.URLError as e:\n",
    "        ErrorInfo= e.read().decode() \n",
    "        print('Error code: ', e.code,ErrorInfo)\n",
    "        sys.exit()\n",
    "\n",
    "    weather = json.loads(html.decode('utf-8'))\n",
    "    return weather['currentConditions']['temp'], weather['currentConditions']['conditions'], weather['currentConditions']['preciptype']\n"
   ]
  },
  {
   "cell_type": "code",
   "execution_count": 60,
   "metadata": {},
   "outputs": [
    {
     "name": "stdout",
     "output_type": "stream",
     "text": [
      "(-8.4, 'Overcast', None)\n"
     ]
    }
   ],
   "source": [
    "print(weatherLookup(str(-87.578269718478),str(-87.578269718478),'2021-12-31','13:46:00',weatherAPIkey))"
   ]
  },
  {
   "cell_type": "code",
   "execution_count": 70,
   "metadata": {},
   "outputs": [
    {
     "data": {
      "text/plain": [
       "1604    2021-12-31T13:46:00\n",
       "Name: crash_date, dtype: object"
      ]
     },
     "execution_count": 70,
     "metadata": {},
     "output_type": "execute_result"
    }
   ],
   "source": [
    "#crashes['crash_year'] = crashes['crash_date'].dt.year\n",
    "rainy['crash_date'].dt.strftime('%Y-%m-%dT%H:%M:%S').head(1)"
   ]
  },
  {
   "cell_type": "code",
   "execution_count": 124,
   "metadata": {},
   "outputs": [],
   "source": [
    "test['wCondit'] = test.apply(lambda test: weatherLookup(test.latitude, test.longitude, test.crash_date,weatherAPIkey),axis = 1)\n"
   ]
  },
  {
   "cell_type": "code",
   "execution_count": null,
   "metadata": {},
   "outputs": [],
   "source": [
    "test[['wTemp','wCond','wPrecip']] = \n",
    "    [weatherLookup(*a) for a in tuple(zip(test['latitude'],test['longitude'],test['crash_date']))]\n",
    "\n",
    "test"
   ]
  },
  {
   "cell_type": "code",
   "execution_count": 130,
   "metadata": {},
   "outputs": [
    {
     "data": {
      "text/plain": [
       "Index(['crash_record_id', 'crash_date', 'posted_speed_limit',\n",
       "       'traffic_control_device', 'device_condition', 'weather_condition',\n",
       "       'lighting_condition', 'first_crash_type', 'trafficway_type',\n",
       "       'alignment', 'roadway_surface_cond', 'road_defect', 'report_type',\n",
       "       'crash_type', 'damage', 'date_police_notified',\n",
       "       'prim_contributory_cause', 'sec_contributory_cause', 'street_no',\n",
       "       'street_direction', 'street_name', 'beat_of_occurrence', 'dooring_i',\n",
       "       'num_units', 'most_severe_injury', 'injuries_total', 'injuries_fatal',\n",
       "       'injuries_incapacitating', 'injuries_non_incapacitating',\n",
       "       'injuries_reported_not_evident', 'injuries_no_indication',\n",
       "       'injuries_unknown', 'crash_hour', 'crash_day_of_week', 'crash_month',\n",
       "       'latitude', 'longitude', 'location', 'intersection_related_i',\n",
       "       'hit_and_run_i', 'statements_taken_i', 'rd_no', 'crash_date_est_i',\n",
       "       'private_property_i', 'photos_taken_i', 'work_zone_i', 'work_zone_type',\n",
       "       'workers_present_i', 'lane_cnt', 'crash_year'],\n",
       "      dtype='object')"
      ]
     },
     "execution_count": 130,
     "metadata": {},
     "output_type": "execute_result"
    }
   ],
   "source": [
    "crash21.columns"
   ]
  },
  {
   "cell_type": "code",
   "execution_count": 131,
   "metadata": {},
   "outputs": [
    {
     "data": {
      "text/plain": [
       "FATAL                         7\n",
       "INCAPACITATING INJURY       146\n",
       "NO INDICATION OF INJURY     403\n",
       "NONINCAPACITATING INJURY    810\n",
       "REPORTED, NOT EVIDENT       171\n",
       "Name: most_severe_injury, dtype: int64"
      ]
     },
     "execution_count": 131,
     "metadata": {},
     "output_type": "execute_result"
    }
   ],
   "source": [
    "crash21['most_severe_injury'].value_counts().sort_index()"
   ]
  },
  {
   "cell_type": "code",
   "execution_count": 132,
   "metadata": {},
   "outputs": [],
   "source": [
    "badInjury = crash21[crash21['most_severe_injury']=='INCAPACITATING INJURY']"
   ]
  },
  {
   "cell_type": "code",
   "execution_count": 133,
   "metadata": {},
   "outputs": [
    {
     "data": {
      "text/plain": [
       "CLEAR              126\n",
       "RAIN                11\n",
       "UNKNOWN              4\n",
       "CLOUDY/OVERCAST      3\n",
       "SNOW                 2\n",
       "Name: weather_condition, dtype: int64"
      ]
     },
     "execution_count": 133,
     "metadata": {},
     "output_type": "execute_result"
    }
   ],
   "source": [
    "badInjury['weather_condition'].value_counts()"
   ]
  },
  {
   "cell_type": "code",
   "execution_count": 135,
   "metadata": {},
   "outputs": [
    {
     "name": "stderr",
     "output_type": "stream",
     "text": [
      "/tmp/ipykernel_635984/681675443.py:1: SettingWithCopyWarning: \n",
      "A value is trying to be set on a copy of a slice from a DataFrame.\n",
      "Try using .loc[row_indexer,col_indexer] = value instead\n",
      "\n",
      "See the caveats in the documentation: https://pandas.pydata.org/pandas-docs/stable/user_guide/indexing.html#returning-a-view-versus-a-copy\n",
      "  badInjury[['wTemp','wCond','wPrecip']] = \\\n",
      "/tmp/ipykernel_635984/681675443.py:1: SettingWithCopyWarning: \n",
      "A value is trying to be set on a copy of a slice from a DataFrame.\n",
      "Try using .loc[row_indexer,col_indexer] = value instead\n",
      "\n",
      "See the caveats in the documentation: https://pandas.pydata.org/pandas-docs/stable/user_guide/indexing.html#returning-a-view-versus-a-copy\n",
      "  badInjury[['wTemp','wCond','wPrecip']] = \\\n",
      "/tmp/ipykernel_635984/681675443.py:1: SettingWithCopyWarning: \n",
      "A value is trying to be set on a copy of a slice from a DataFrame.\n",
      "Try using .loc[row_indexer,col_indexer] = value instead\n",
      "\n",
      "See the caveats in the documentation: https://pandas.pydata.org/pandas-docs/stable/user_guide/indexing.html#returning-a-view-versus-a-copy\n",
      "  badInjury[['wTemp','wCond','wPrecip']] = \\\n"
     ]
    }
   ],
   "source": [
    "badInjury[['wTemp','wCond','wPrecip']] = \\\n",
    "    [weatherLookup(*a) for a in tuple(zip(badInjury['latitude'],badInjury['longitude'],badInjury['crash_date']))]"
   ]
  },
  {
   "cell_type": "code",
   "execution_count": 137,
   "metadata": {},
   "outputs": [
    {
     "data": {
      "text/html": [
       "<div>\n",
       "<style scoped>\n",
       "    .dataframe tbody tr th:only-of-type {\n",
       "        vertical-align: middle;\n",
       "    }\n",
       "\n",
       "    .dataframe tbody tr th {\n",
       "        vertical-align: top;\n",
       "    }\n",
       "\n",
       "    .dataframe thead th {\n",
       "        text-align: right;\n",
       "    }\n",
       "</style>\n",
       "<table border=\"1\" class=\"dataframe\">\n",
       "  <thead>\n",
       "    <tr style=\"text-align: right;\">\n",
       "      <th></th>\n",
       "      <th>crash_record_id</th>\n",
       "      <th>crash_date</th>\n",
       "      <th>posted_speed_limit</th>\n",
       "      <th>traffic_control_device</th>\n",
       "      <th>device_condition</th>\n",
       "      <th>weather_condition</th>\n",
       "      <th>lighting_condition</th>\n",
       "      <th>first_crash_type</th>\n",
       "      <th>trafficway_type</th>\n",
       "      <th>alignment</th>\n",
       "      <th>...</th>\n",
       "      <th>private_property_i</th>\n",
       "      <th>photos_taken_i</th>\n",
       "      <th>work_zone_i</th>\n",
       "      <th>work_zone_type</th>\n",
       "      <th>workers_present_i</th>\n",
       "      <th>lane_cnt</th>\n",
       "      <th>crash_year</th>\n",
       "      <th>wTemp</th>\n",
       "      <th>wCond</th>\n",
       "      <th>wPrecip</th>\n",
       "    </tr>\n",
       "  </thead>\n",
       "  <tbody>\n",
       "    <tr>\n",
       "      <th>1911</th>\n",
       "      <td>c19ce8fe678b1693e27a4f2cf1b5f2efffa16f594ce21227c3aed84d5a145a7b27379e084f143b3ad36709b00c964b529d4b1baf125a80713c66465a7dfcc503</td>\n",
       "      <td>2021-10-04 19:44:00</td>\n",
       "      <td>30</td>\n",
       "      <td>TRAFFIC SIGNAL</td>\n",
       "      <td>UNKNOWN</td>\n",
       "      <td>CLEAR</td>\n",
       "      <td>DARKNESS, LIGHTED ROAD</td>\n",
       "      <td>PEDALCYCLIST</td>\n",
       "      <td>FOUR WAY</td>\n",
       "      <td>STRAIGHT AND LEVEL</td>\n",
       "      <td>...</td>\n",
       "      <td>NaN</td>\n",
       "      <td>NaN</td>\n",
       "      <td>NaN</td>\n",
       "      <td>NaN</td>\n",
       "      <td>NaN</td>\n",
       "      <td>NaN</td>\n",
       "      <td>2021</td>\n",
       "      <td>67.3</td>\n",
       "      <td>Overcast</td>\n",
       "      <td>None</td>\n",
       "    </tr>\n",
       "    <tr>\n",
       "      <th>3085</th>\n",
       "      <td>967783f483ead199e53dccee44b2dd5b1ef42a6251b129d49b9caa66ddb05b484114809526f7e3e4c3ed6aa69151ffa5dddf935e4e056cb88d1e1010f7e70d60</td>\n",
       "      <td>2021-03-02 15:55:00</td>\n",
       "      <td>30</td>\n",
       "      <td>TRAFFIC SIGNAL</td>\n",
       "      <td>FUNCTIONING PROPERLY</td>\n",
       "      <td>CLEAR</td>\n",
       "      <td>DAYLIGHT</td>\n",
       "      <td>PEDALCYCLIST</td>\n",
       "      <td>FOUR WAY</td>\n",
       "      <td>STRAIGHT AND LEVEL</td>\n",
       "      <td>...</td>\n",
       "      <td>NaN</td>\n",
       "      <td>NaN</td>\n",
       "      <td>NaN</td>\n",
       "      <td>NaN</td>\n",
       "      <td>NaN</td>\n",
       "      <td>NaN</td>\n",
       "      <td>2021</td>\n",
       "      <td>42.0</td>\n",
       "      <td>Clear</td>\n",
       "      <td>None</td>\n",
       "    </tr>\n",
       "    <tr>\n",
       "      <th>1848</th>\n",
       "      <td>f6198c266f65265e6868d066cd4f29b1ff76f2e18f4da95f3bf3053f3af9521b94e8e09aa336b118a0cc1efcc91ec8d3362498fe882ef9ddd03c0124bcb86025</td>\n",
       "      <td>2021-10-16 15:00:00</td>\n",
       "      <td>30</td>\n",
       "      <td>TRAFFIC SIGNAL</td>\n",
       "      <td>FUNCTIONING PROPERLY</td>\n",
       "      <td>CLEAR</td>\n",
       "      <td>DAYLIGHT</td>\n",
       "      <td>PEDALCYCLIST</td>\n",
       "      <td>NOT DIVIDED</td>\n",
       "      <td>STRAIGHT AND LEVEL</td>\n",
       "      <td>...</td>\n",
       "      <td>NaN</td>\n",
       "      <td>NaN</td>\n",
       "      <td>NaN</td>\n",
       "      <td>NaN</td>\n",
       "      <td>NaN</td>\n",
       "      <td>NaN</td>\n",
       "      <td>2021</td>\n",
       "      <td>59.3</td>\n",
       "      <td>Partially cloudy</td>\n",
       "      <td>None</td>\n",
       "    </tr>\n",
       "    <tr>\n",
       "      <th>1657</th>\n",
       "      <td>070c71bfc229a6b429868790eb90a890b25941b5ab8396a4b4ffb0992980949dacce76860d9d1f0d8dc41068e471934abcdbc6dc3ea9b312368a8284508fdee5</td>\n",
       "      <td>2021-12-02 17:23:00</td>\n",
       "      <td>30</td>\n",
       "      <td>TRAFFIC SIGNAL</td>\n",
       "      <td>FUNCTIONING PROPERLY</td>\n",
       "      <td>CLEAR</td>\n",
       "      <td>DUSK</td>\n",
       "      <td>PEDALCYCLIST</td>\n",
       "      <td>FIVE POINT, OR MORE</td>\n",
       "      <td>STRAIGHT AND LEVEL</td>\n",
       "      <td>...</td>\n",
       "      <td>NaN</td>\n",
       "      <td>NaN</td>\n",
       "      <td>NaN</td>\n",
       "      <td>NaN</td>\n",
       "      <td>NaN</td>\n",
       "      <td>NaN</td>\n",
       "      <td>2021</td>\n",
       "      <td>50.0</td>\n",
       "      <td>Partially cloudy</td>\n",
       "      <td>None</td>\n",
       "    </tr>\n",
       "    <tr>\n",
       "      <th>1814</th>\n",
       "      <td>f5556a1237866e0c5c8e38f3bafd287f7c7c70f64a424a6fb11bb2a4516fcf75188c554bf19b17fb8b15ba5197f2ea55f885da658960897b55308a8ff60d3d90</td>\n",
       "      <td>2021-10-21 14:35:00</td>\n",
       "      <td>30</td>\n",
       "      <td>NO CONTROLS</td>\n",
       "      <td>NO CONTROLS</td>\n",
       "      <td>CLOUDY/OVERCAST</td>\n",
       "      <td>DAYLIGHT</td>\n",
       "      <td>PEDALCYCLIST</td>\n",
       "      <td>DIVIDED - W/MEDIAN (NOT RAISED)</td>\n",
       "      <td>STRAIGHT AND LEVEL</td>\n",
       "      <td>...</td>\n",
       "      <td>NaN</td>\n",
       "      <td>NaN</td>\n",
       "      <td>NaN</td>\n",
       "      <td>NaN</td>\n",
       "      <td>NaN</td>\n",
       "      <td>NaN</td>\n",
       "      <td>2021</td>\n",
       "      <td>51.0</td>\n",
       "      <td>Overcast</td>\n",
       "      <td>None</td>\n",
       "    </tr>\n",
       "    <tr>\n",
       "      <th>2147</th>\n",
       "      <td>76551113b651c6743b16a596e469859699682d4d209356356c3560c9048672557171d8cd74e7955b92d05f751720e133f8247b978383b0ca9f5d884d7a04ff40</td>\n",
       "      <td>2021-08-29 15:15:00</td>\n",
       "      <td>30</td>\n",
       "      <td>NO CONTROLS</td>\n",
       "      <td>NO CONTROLS</td>\n",
       "      <td>CLEAR</td>\n",
       "      <td>DAYLIGHT</td>\n",
       "      <td>PEDALCYCLIST</td>\n",
       "      <td>NOT DIVIDED</td>\n",
       "      <td>STRAIGHT AND LEVEL</td>\n",
       "      <td>...</td>\n",
       "      <td>NaN</td>\n",
       "      <td>NaN</td>\n",
       "      <td>NaN</td>\n",
       "      <td>NaN</td>\n",
       "      <td>NaN</td>\n",
       "      <td>NaN</td>\n",
       "      <td>2021</td>\n",
       "      <td>86.9</td>\n",
       "      <td>Partially cloudy</td>\n",
       "      <td>None</td>\n",
       "    </tr>\n",
       "    <tr>\n",
       "      <th>1809</th>\n",
       "      <td>f270be9716c4e236805651c1dcef7caeb0fe5f700b9b568cfa40dbf2b1eb829c0f326dee1eb6655f294c72c0edd60e6a69be118844ee3772b18e68e481c8394a</td>\n",
       "      <td>2021-10-22 18:46:00</td>\n",
       "      <td>30</td>\n",
       "      <td>TRAFFIC SIGNAL</td>\n",
       "      <td>FUNCTIONING PROPERLY</td>\n",
       "      <td>CLEAR</td>\n",
       "      <td>DARKNESS, LIGHTED ROAD</td>\n",
       "      <td>PEDALCYCLIST</td>\n",
       "      <td>DIVIDED - W/MEDIAN (NOT RAISED)</td>\n",
       "      <td>STRAIGHT AND LEVEL</td>\n",
       "      <td>...</td>\n",
       "      <td>NaN</td>\n",
       "      <td>NaN</td>\n",
       "      <td>NaN</td>\n",
       "      <td>NaN</td>\n",
       "      <td>NaN</td>\n",
       "      <td>NaN</td>\n",
       "      <td>2021</td>\n",
       "      <td>52.4</td>\n",
       "      <td>Overcast</td>\n",
       "      <td>None</td>\n",
       "    </tr>\n",
       "    <tr>\n",
       "      <th>1874</th>\n",
       "      <td>d9625dcdc791d0091982d7395c457c81d220c3215dd9cb93bf0e5e9edb3ac79c8d768b697d53237f87aa317fecb565b637c6618a51a6bcfb56060cd7384f7cb7</td>\n",
       "      <td>2021-10-12 19:30:00</td>\n",
       "      <td>25</td>\n",
       "      <td>NO CONTROLS</td>\n",
       "      <td>NO CONTROLS</td>\n",
       "      <td>CLEAR</td>\n",
       "      <td>DARKNESS</td>\n",
       "      <td>PEDALCYCLIST</td>\n",
       "      <td>NOT DIVIDED</td>\n",
       "      <td>STRAIGHT AND LEVEL</td>\n",
       "      <td>...</td>\n",
       "      <td>NaN</td>\n",
       "      <td>NaN</td>\n",
       "      <td>NaN</td>\n",
       "      <td>NaN</td>\n",
       "      <td>NaN</td>\n",
       "      <td>NaN</td>\n",
       "      <td>2021</td>\n",
       "      <td>63.4</td>\n",
       "      <td>Partially cloudy</td>\n",
       "      <td>None</td>\n",
       "    </tr>\n",
       "    <tr>\n",
       "      <th>1769</th>\n",
       "      <td>28319bf0472112ff33380b34d2a762f8d7bf0914edb5cc0807979ce447063adc491c401fdd8a753ed81672517927ad17eb522e8389dd8e745a28a18d5b4471ff</td>\n",
       "      <td>2021-10-30 09:15:00</td>\n",
       "      <td>30</td>\n",
       "      <td>TRAFFIC SIGNAL</td>\n",
       "      <td>FUNCTIONING PROPERLY</td>\n",
       "      <td>RAIN</td>\n",
       "      <td>DAYLIGHT</td>\n",
       "      <td>PEDALCYCLIST</td>\n",
       "      <td>NOT DIVIDED</td>\n",
       "      <td>STRAIGHT AND LEVEL</td>\n",
       "      <td>...</td>\n",
       "      <td>NaN</td>\n",
       "      <td>NaN</td>\n",
       "      <td>NaN</td>\n",
       "      <td>NaN</td>\n",
       "      <td>NaN</td>\n",
       "      <td>NaN</td>\n",
       "      <td>2021</td>\n",
       "      <td>53.2</td>\n",
       "      <td>Overcast</td>\n",
       "      <td>None</td>\n",
       "    </tr>\n",
       "    <tr>\n",
       "      <th>2621</th>\n",
       "      <td>094ca7525dfa7644d88cfe39dd1d6fe01423e6d530a7ce991ff62c528b9343015143fd43c5c66ad6f5cbff3341c4c5fbf43ed7da8a0446c89cdf0a7689270d9f</td>\n",
       "      <td>2021-06-23 09:20:00</td>\n",
       "      <td>30</td>\n",
       "      <td>NO CONTROLS</td>\n",
       "      <td>NO CONTROLS</td>\n",
       "      <td>CLEAR</td>\n",
       "      <td>DAYLIGHT</td>\n",
       "      <td>PEDALCYCLIST</td>\n",
       "      <td>DIVIDED - W/MEDIAN (NOT RAISED)</td>\n",
       "      <td>STRAIGHT AND LEVEL</td>\n",
       "      <td>...</td>\n",
       "      <td>NaN</td>\n",
       "      <td>NaN</td>\n",
       "      <td>NaN</td>\n",
       "      <td>NaN</td>\n",
       "      <td>NaN</td>\n",
       "      <td>NaN</td>\n",
       "      <td>2021</td>\n",
       "      <td>65.8</td>\n",
       "      <td>Overcast</td>\n",
       "      <td>None</td>\n",
       "    </tr>\n",
       "  </tbody>\n",
       "</table>\n",
       "<p>10 rows × 53 columns</p>\n",
       "</div>"
      ],
      "text/plain": [
       "                                                                                                                       crash_record_id  \\\n",
       "1911  c19ce8fe678b1693e27a4f2cf1b5f2efffa16f594ce21227c3aed84d5a145a7b27379e084f143b3ad36709b00c964b529d4b1baf125a80713c66465a7dfcc503   \n",
       "3085  967783f483ead199e53dccee44b2dd5b1ef42a6251b129d49b9caa66ddb05b484114809526f7e3e4c3ed6aa69151ffa5dddf935e4e056cb88d1e1010f7e70d60   \n",
       "1848  f6198c266f65265e6868d066cd4f29b1ff76f2e18f4da95f3bf3053f3af9521b94e8e09aa336b118a0cc1efcc91ec8d3362498fe882ef9ddd03c0124bcb86025   \n",
       "1657  070c71bfc229a6b429868790eb90a890b25941b5ab8396a4b4ffb0992980949dacce76860d9d1f0d8dc41068e471934abcdbc6dc3ea9b312368a8284508fdee5   \n",
       "1814  f5556a1237866e0c5c8e38f3bafd287f7c7c70f64a424a6fb11bb2a4516fcf75188c554bf19b17fb8b15ba5197f2ea55f885da658960897b55308a8ff60d3d90   \n",
       "2147  76551113b651c6743b16a596e469859699682d4d209356356c3560c9048672557171d8cd74e7955b92d05f751720e133f8247b978383b0ca9f5d884d7a04ff40   \n",
       "1809  f270be9716c4e236805651c1dcef7caeb0fe5f700b9b568cfa40dbf2b1eb829c0f326dee1eb6655f294c72c0edd60e6a69be118844ee3772b18e68e481c8394a   \n",
       "1874  d9625dcdc791d0091982d7395c457c81d220c3215dd9cb93bf0e5e9edb3ac79c8d768b697d53237f87aa317fecb565b637c6618a51a6bcfb56060cd7384f7cb7   \n",
       "1769  28319bf0472112ff33380b34d2a762f8d7bf0914edb5cc0807979ce447063adc491c401fdd8a753ed81672517927ad17eb522e8389dd8e745a28a18d5b4471ff   \n",
       "2621  094ca7525dfa7644d88cfe39dd1d6fe01423e6d530a7ce991ff62c528b9343015143fd43c5c66ad6f5cbff3341c4c5fbf43ed7da8a0446c89cdf0a7689270d9f   \n",
       "\n",
       "              crash_date  posted_speed_limit traffic_control_device  \\\n",
       "1911 2021-10-04 19:44:00                  30         TRAFFIC SIGNAL   \n",
       "3085 2021-03-02 15:55:00                  30         TRAFFIC SIGNAL   \n",
       "1848 2021-10-16 15:00:00                  30         TRAFFIC SIGNAL   \n",
       "1657 2021-12-02 17:23:00                  30         TRAFFIC SIGNAL   \n",
       "1814 2021-10-21 14:35:00                  30            NO CONTROLS   \n",
       "2147 2021-08-29 15:15:00                  30            NO CONTROLS   \n",
       "1809 2021-10-22 18:46:00                  30         TRAFFIC SIGNAL   \n",
       "1874 2021-10-12 19:30:00                  25            NO CONTROLS   \n",
       "1769 2021-10-30 09:15:00                  30         TRAFFIC SIGNAL   \n",
       "2621 2021-06-23 09:20:00                  30            NO CONTROLS   \n",
       "\n",
       "          device_condition weather_condition      lighting_condition  \\\n",
       "1911               UNKNOWN             CLEAR  DARKNESS, LIGHTED ROAD   \n",
       "3085  FUNCTIONING PROPERLY             CLEAR                DAYLIGHT   \n",
       "1848  FUNCTIONING PROPERLY             CLEAR                DAYLIGHT   \n",
       "1657  FUNCTIONING PROPERLY             CLEAR                    DUSK   \n",
       "1814           NO CONTROLS   CLOUDY/OVERCAST                DAYLIGHT   \n",
       "2147           NO CONTROLS             CLEAR                DAYLIGHT   \n",
       "1809  FUNCTIONING PROPERLY             CLEAR  DARKNESS, LIGHTED ROAD   \n",
       "1874           NO CONTROLS             CLEAR                DARKNESS   \n",
       "1769  FUNCTIONING PROPERLY              RAIN                DAYLIGHT   \n",
       "2621           NO CONTROLS             CLEAR                DAYLIGHT   \n",
       "\n",
       "     first_crash_type                  trafficway_type           alignment  \\\n",
       "1911     PEDALCYCLIST                         FOUR WAY  STRAIGHT AND LEVEL   \n",
       "3085     PEDALCYCLIST                         FOUR WAY  STRAIGHT AND LEVEL   \n",
       "1848     PEDALCYCLIST                      NOT DIVIDED  STRAIGHT AND LEVEL   \n",
       "1657     PEDALCYCLIST              FIVE POINT, OR MORE  STRAIGHT AND LEVEL   \n",
       "1814     PEDALCYCLIST  DIVIDED - W/MEDIAN (NOT RAISED)  STRAIGHT AND LEVEL   \n",
       "2147     PEDALCYCLIST                      NOT DIVIDED  STRAIGHT AND LEVEL   \n",
       "1809     PEDALCYCLIST  DIVIDED - W/MEDIAN (NOT RAISED)  STRAIGHT AND LEVEL   \n",
       "1874     PEDALCYCLIST                      NOT DIVIDED  STRAIGHT AND LEVEL   \n",
       "1769     PEDALCYCLIST                      NOT DIVIDED  STRAIGHT AND LEVEL   \n",
       "2621     PEDALCYCLIST  DIVIDED - W/MEDIAN (NOT RAISED)  STRAIGHT AND LEVEL   \n",
       "\n",
       "      ... private_property_i photos_taken_i work_zone_i work_zone_type  \\\n",
       "1911  ...                NaN            NaN         NaN            NaN   \n",
       "3085  ...                NaN            NaN         NaN            NaN   \n",
       "1848  ...                NaN            NaN         NaN            NaN   \n",
       "1657  ...                NaN            NaN         NaN            NaN   \n",
       "1814  ...                NaN            NaN         NaN            NaN   \n",
       "2147  ...                NaN            NaN         NaN            NaN   \n",
       "1809  ...                NaN            NaN         NaN            NaN   \n",
       "1874  ...                NaN            NaN         NaN            NaN   \n",
       "1769  ...                NaN            NaN         NaN            NaN   \n",
       "2621  ...                NaN            NaN         NaN            NaN   \n",
       "\n",
       "     workers_present_i lane_cnt crash_year wTemp             wCond wPrecip  \n",
       "1911               NaN      NaN       2021  67.3          Overcast    None  \n",
       "3085               NaN      NaN       2021  42.0             Clear    None  \n",
       "1848               NaN      NaN       2021  59.3  Partially cloudy    None  \n",
       "1657               NaN      NaN       2021  50.0  Partially cloudy    None  \n",
       "1814               NaN      NaN       2021  51.0          Overcast    None  \n",
       "2147               NaN      NaN       2021  86.9  Partially cloudy    None  \n",
       "1809               NaN      NaN       2021  52.4          Overcast    None  \n",
       "1874               NaN      NaN       2021  63.4  Partially cloudy    None  \n",
       "1769               NaN      NaN       2021  53.2          Overcast    None  \n",
       "2621               NaN      NaN       2021  65.8          Overcast    None  \n",
       "\n",
       "[10 rows x 53 columns]"
      ]
     },
     "execution_count": 137,
     "metadata": {},
     "output_type": "execute_result"
    }
   ],
   "source": [
    "badInjury.sample(10)"
   ]
  },
  {
   "cell_type": "code",
   "execution_count": 145,
   "metadata": {},
   "outputs": [
    {
     "data": {
      "text/plain": [
       "CLEAR                    0.874431\n",
       "RAIN                     0.065712\n",
       "UNKNOWN                  0.028627\n",
       "CLOUDY/OVERCAST          0.025374\n",
       "SNOW                     0.003253\n",
       "FREEZING RAIN/DRIZZLE    0.001952\n",
       "OTHER                    0.000651\n",
       "Name: weather_condition, dtype: float64"
      ]
     },
     "execution_count": 145,
     "metadata": {},
     "output_type": "execute_result"
    }
   ],
   "source": [
    "crash21['weather_condition'].value_counts(normalize=True)"
   ]
  },
  {
   "cell_type": "code",
   "execution_count": 146,
   "metadata": {},
   "outputs": [
    {
     "name": "stdout",
     "output_type": "stream",
     "text": [
      "<class 'pandas.core.frame.DataFrame'>\n",
      "Int64Index: 1537 entries, 1604 to 3140\n",
      "Data columns (total 50 columns):\n",
      " #   Column                         Non-Null Count  Dtype         \n",
      "---  ------                         --------------  -----         \n",
      " 0   crash_record_id                1537 non-null   object        \n",
      " 1   crash_date                     1537 non-null   datetime64[ns]\n",
      " 2   posted_speed_limit             1537 non-null   int64         \n",
      " 3   traffic_control_device         1537 non-null   object        \n",
      " 4   device_condition               1537 non-null   object        \n",
      " 5   weather_condition              1537 non-null   object        \n",
      " 6   lighting_condition             1537 non-null   object        \n",
      " 7   first_crash_type               1537 non-null   object        \n",
      " 8   trafficway_type                1537 non-null   object        \n",
      " 9   alignment                      1537 non-null   object        \n",
      " 10  roadway_surface_cond           1537 non-null   object        \n",
      " 11  road_defect                    1537 non-null   object        \n",
      " 12  report_type                    1463 non-null   object        \n",
      " 13  crash_type                     1537 non-null   object        \n",
      " 14  damage                         1537 non-null   object        \n",
      " 15  date_police_notified           1537 non-null   object        \n",
      " 16  prim_contributory_cause        1537 non-null   object        \n",
      " 17  sec_contributory_cause         1537 non-null   object        \n",
      " 18  street_no                      1537 non-null   object        \n",
      " 19  street_direction               1537 non-null   object        \n",
      " 20  street_name                    1537 non-null   object        \n",
      " 21  beat_of_occurrence             1537 non-null   int64         \n",
      " 22  dooring_i                      241 non-null    object        \n",
      " 23  num_units                      1537 non-null   object        \n",
      " 24  most_severe_injury             1537 non-null   object        \n",
      " 25  injuries_total                 1537 non-null   int64         \n",
      " 26  injuries_fatal                 1537 non-null   object        \n",
      " 27  injuries_incapacitating        1537 non-null   object        \n",
      " 28  injuries_non_incapacitating    1537 non-null   object        \n",
      " 29  injuries_reported_not_evident  1537 non-null   object        \n",
      " 30  injuries_no_indication         1537 non-null   object        \n",
      " 31  injuries_unknown               1537 non-null   object        \n",
      " 32  crash_hour                     1537 non-null   int64         \n",
      " 33  crash_day_of_week              1537 non-null   int64         \n",
      " 34  crash_month                    1537 non-null   int64         \n",
      " 35  latitude                       1530 non-null   float64       \n",
      " 36  longitude                      1530 non-null   float64       \n",
      " 37  location                       1530 non-null   object        \n",
      " 38  intersection_related_i         579 non-null    object        \n",
      " 39  hit_and_run_i                  483 non-null    object        \n",
      " 40  statements_taken_i             46 non-null     object        \n",
      " 41  rd_no                          1537 non-null   object        \n",
      " 42  crash_date_est_i               84 non-null     object        \n",
      " 43  private_property_i             13 non-null     object        \n",
      " 44  photos_taken_i                 17 non-null     object        \n",
      " 45  work_zone_i                    4 non-null      object        \n",
      " 46  work_zone_type                 3 non-null      object        \n",
      " 47  workers_present_i              1 non-null      object        \n",
      " 48  lane_cnt                       0 non-null      object        \n",
      " 49  crash_year                     1537 non-null   int64         \n",
      "dtypes: datetime64[ns](1), float64(2), int64(7), object(40)\n",
      "memory usage: 612.4+ KB\n"
     ]
    }
   ],
   "source": [
    "crash21.info()"
   ]
  },
  {
   "cell_type": "code",
   "execution_count": 147,
   "metadata": {},
   "outputs": [
    {
     "data": {
      "text/plain": [
       "41.89529666462941"
      ]
     },
     "execution_count": 147,
     "metadata": {},
     "output_type": "execute_result"
    }
   ],
   "source": [
    "crash21['latitude'].mean()"
   ]
  },
  {
   "cell_type": "code",
   "execution_count": 148,
   "metadata": {},
   "outputs": [
    {
     "data": {
      "text/plain": [
       "-87.67682552741503"
      ]
     },
     "execution_count": 148,
     "metadata": {},
     "output_type": "execute_result"
    }
   ],
   "source": [
    "crash21['longitude'].mean()"
   ]
  },
  {
   "cell_type": "code",
   "execution_count": 150,
   "metadata": {},
   "outputs": [
    {
     "data": {
      "text/plain": [
       "166.66666666666666"
      ]
     },
     "execution_count": 150,
     "metadata": {},
     "output_type": "execute_result"
    }
   ],
   "source": [
    "1000 / 6\n",
    "\n"
   ]
  }
 ],
 "metadata": {
  "kernelspec": {
   "display_name": "Python 3.10.6 ('default')",
   "language": "python",
   "name": "python3"
  },
  "language_info": {
   "codemirror_mode": {
    "name": "ipython",
    "version": 3
   },
   "file_extension": ".py",
   "mimetype": "text/x-python",
   "name": "python",
   "nbconvert_exporter": "python",
   "pygments_lexer": "ipython3",
   "version": "3.10.6"
  },
  "orig_nbformat": 4,
  "vscode": {
   "interpreter": {
    "hash": "3fd9bb179558f52c0fd35b67e8bb6d5d0ecd33ead53ba97d5f52ce04240a2830"
   }
  }
 },
 "nbformat": 4,
 "nbformat_minor": 2
}
