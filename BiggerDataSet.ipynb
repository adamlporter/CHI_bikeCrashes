{
 "cells": [
  {
   "cell_type": "markdown",
   "metadata": {},
   "source": [
    "The City of Chicago has made it's police database available from it's city data hub.\n",
    "\n",
    "I'm curious about what it shows about accidents involving bicycles and, specifically, what happened during covid.\n",
    "\n",
    "Allegedly, more people started biking in 2020 because public transit was either limited or perceived to be unsafe; many bike shops reported they couldn't keep up with demand (with supply chain problems doubtless contributing to the problem).\n",
    "\n",
    "But drivers -- taking advantage of fewer cars on the road -- allegedly began to drive faster and more recklessly.\n",
    "\n",
    "Questions:\n",
    "    1) Was there an increase in the amount of bicycling being done during 2020? This question is better answered by analyzing DIVVY data. This cannot show how private bike use changed, but it can show whether there was an uptick in the amount of useage with the DIVVY system.\n",
    "    2) Was there an increase in the number of bike accidents in 2020? This might suggest either/both more bikes on the road and/or more reckless driving being done.\n",
    "\n",
    "To access the Chicago databases, one needs an API app token. One needs to create an account on their website (https://data.cityofchicago.org/login) and then go to the developer settings page (https://data.cityofchicago.org/profile/edit/developer_settings)"
   ]
  },
  {
   "cell_type": "code",
   "execution_count": 1,
   "metadata": {},
   "outputs": [],
   "source": [
    "import pandas as pd\n",
    "import numpy as np\n",
    "import matplotlib\n",
    "from sodapy import Socrata"
   ]
  },
  {
   "cell_type": "code",
   "execution_count": 2,
   "metadata": {},
   "outputs": [
    {
     "name": "stdout",
     "output_type": "stream",
     "text": [
      "Enter App Token\n"
     ]
    }
   ],
   "source": [
    "print('Enter App Token')\n",
    "AppTok = input()"
   ]
  },
  {
   "cell_type": "markdown",
   "metadata": {},
   "source": [
    "One can query the city's database with a URL like this one:\n",
    "    url= \"https://data.cityofchicago.org/resource/85ca-t3if.json?$$app_token=AppTok$where=crash_date%20between$20'2021-01-01T00:00:00'%20and%20'2022-01-01T00:00:00'\"\n",
    "\n",
    "but it is clearer to use the Socrata client and sodapy. The syntax for it is a little confusing and the next few cells show my trial- and error-efforts to get the syntax correct.\n",
    "\n",
    "One problem is that the URL method returns a JSON object, which Pandas does a better job of turning into a DF: numbers are recognized as numbers, mostly.\n",
    "\n",
    "The Socrata client returns a list/dictionary and Pandas turns all the fields into string objects."
   ]
  },
  {
   "cell_type": "code",
   "execution_count": 3,
   "metadata": {},
   "outputs": [],
   "source": [
    "client=Socrata('data.cityofchicago.org',AppTok)\n",
    "# chicago data, App_token\n"
   ]
  },
  {
   "cell_type": "code",
   "execution_count": null,
   "metadata": {},
   "outputs": [],
   "source": [
    "results=client.get('85ca-t3if',limit=2000)\n",
    "# this works - pulls 2K crash records\n",
    "len(results)"
   ]
  },
  {
   "cell_type": "code",
   "execution_count": 15,
   "metadata": {},
   "outputs": [
    {
     "data": {
      "text/plain": [
       "2000"
      ]
     },
     "execution_count": 15,
     "metadata": {},
     "output_type": "execute_result"
    }
   ],
   "source": [
    "results2 = client.get('85ca-t3if',where=\"first_crash_type== 'PEDALCYCLIST'\",limit=2000)\n",
    "len(results2)"
   ]
  },
  {
   "cell_type": "code",
   "execution_count": 14,
   "metadata": {},
   "outputs": [
    {
     "data": {
      "text/plain": [
       "2000"
      ]
     },
     "execution_count": 14,
     "metadata": {},
     "output_type": "execute_result"
    }
   ],
   "source": [
    "results3 = client.get('85ca-t3if',where= \"crash_date>'21-01-01T00:00:00'\",limit=2000)\n",
    "len(results3)"
   ]
  },
  {
   "cell_type": "markdown",
   "metadata": {},
   "source": [
    "The above cells are my experiments to get the syntax of the query correct. The documentation isn't terribly helpful about how to format the \"where\" statement. What I found was:\n",
    "\n",
    "a) field names don't need to be in quotes but the criteria do:\n",
    "    first_crash_type (field name) == 'PEDALCYCLIST' (criteria)\n",
    "b) Socrata supports multiple criterial; each needs to follow the above format:\n",
    "    where= \"crash_date>'19-01-01T00:00:00'\" and \"first_crash_type== 'PEDALCYCLIST'\""
   ]
  },
  {
   "cell_type": "code",
   "execution_count": 4,
   "metadata": {},
   "outputs": [],
   "source": [
    "results = client.get('85ca-t3if', \n",
    "    where= \"crash_date>'18-01-01T00:00:00'\" and \"first_crash_type== 'PEDALCYCLIST'\",\n",
    "    limit = 50000)    "
   ]
  },
  {
   "cell_type": "code",
   "execution_count": 21,
   "metadata": {},
   "outputs": [],
   "source": [
    "results_JSON = client.get('85ca-t3if', content_type= 'json',\n",
    "    where= \"crash_date>'18-01-01T00:00:00'\" and \"first_crash_type== 'PEDALCYCLIST'\",\n",
    "    limit = 50000) "
   ]
  },
  {
   "cell_type": "code",
   "execution_count": 22,
   "metadata": {},
   "outputs": [],
   "source": [
    "crashes_json = pd.DataFrame.from_dict(results_JSON)"
   ]
  },
  {
   "cell_type": "code",
   "execution_count": 5,
   "metadata": {},
   "outputs": [
    {
     "data": {
      "text/plain": [
       "9253"
      ]
     },
     "execution_count": 5,
     "metadata": {},
     "output_type": "execute_result"
    }
   ],
   "source": [
    "crashes = pd.DataFrame.from_dict(results)\n",
    "len(crashes)"
   ]
  },
  {
   "cell_type": "code",
   "execution_count": 20,
   "metadata": {},
   "outputs": [
    {
     "data": {
      "text/plain": [
       "crash_record_id                          object\n",
       "crash_date                       datetime64[ns]\n",
       "posted_speed_limit                       object\n",
       "traffic_control_device                   object\n",
       "device_condition                         object\n",
       "weather_condition                        object\n",
       "lighting_condition                       object\n",
       "first_crash_type                         object\n",
       "trafficway_type                          object\n",
       "alignment                                object\n",
       "roadway_surface_cond                     object\n",
       "road_defect                              object\n",
       "report_type                              object\n",
       "crash_type                               object\n",
       "intersection_related_i                   object\n",
       "damage                                   object\n",
       "date_police_notified                     object\n",
       "prim_contributory_cause                  object\n",
       "sec_contributory_cause                   object\n",
       "street_no                                object\n",
       "street_direction                         object\n",
       "street_name                              object\n",
       "beat_of_occurrence                       object\n",
       "num_units                                object\n",
       "most_severe_injury                       object\n",
       "injuries_total                           object\n",
       "injuries_fatal                           object\n",
       "injuries_incapacitating                  object\n",
       "injuries_non_incapacitating              object\n",
       "injuries_reported_not_evident            object\n",
       "injuries_no_indication                   object\n",
       "injuries_unknown                         object\n",
       "crash_hour                               object\n",
       "crash_day_of_week                        object\n",
       "crash_month                              object\n",
       "latitude                                 object\n",
       "longitude                                object\n",
       "location                                 object\n",
       "hit_and_run_i                            object\n",
       "dooring_i                                object\n",
       "crash_date_est_i                         object\n",
       "private_property_i                       object\n",
       "statements_taken_i                       object\n",
       "photos_taken_i                           object\n",
       "rd_no                                    object\n",
       "work_zone_i                              object\n",
       "work_zone_type                           object\n",
       "workers_present_i                        object\n",
       "lane_cnt                                 object\n",
       "crash_year                                int64\n",
       "dtype: object"
      ]
     },
     "execution_count": 20,
     "metadata": {},
     "output_type": "execute_result"
    }
   ],
   "source": [
    "crashes.dtypes"
   ]
  },
  {
   "cell_type": "markdown",
   "metadata": {},
   "source": [
    "Since Jan 2019 to July 2022, there are only 9253 reports of crashes involving bicyclists? This seems low. Let's chart it by year to see if there are major differences. . .\n",
    "\n",
    "First a bit of data cleaning, including changing the date field to datetime format"
   ]
  },
  {
   "cell_type": "code",
   "execution_count": 6,
   "metadata": {},
   "outputs": [],
   "source": [
    "crashes.crash_date = pd.to_datetime(crashes.crash_date)"
   ]
  },
  {
   "cell_type": "code",
   "execution_count": 11,
   "metadata": {},
   "outputs": [],
   "source": [
    "crashes['crash_year'] = crashes['crash_date'].dt.year"
   ]
  },
  {
   "cell_type": "code",
   "execution_count": 24,
   "metadata": {},
   "outputs": [],
   "source": [
    "crashes['posted_speed_limit'] = pd.to_numeric(crashes['posted_speed_limit'])\n",
    "crashes['crash_month'] = pd.to_numeric(crashes['crash_month'])\n",
    "crashes['beat_of_occurrence'] = pd.to_numeric( crashes['beat_of_occurrence'] )\n",
    "crashes['injuries_total'] = pd.to_numeric(crashes['injuries_total'])\n",
    "crashes['crash_hour'] = pd.to_numeric( crashes['crash_hour'] )\n",
    "crashes['crash_year'] = pd.to_numeric( crashes['crash_year'] )\n",
    "crashes['crash_day_of_week'] = pd.to_numeric( crashes['crash_day_of_week'] )\n",
    "crashes['latitude'] = pd.to_numeric( crashes['latitude'] )\n",
    "crashes['longitude'] = pd.to_numeric( crashes['longitude'] )\n"
   ]
  },
  {
   "cell_type": "code",
   "execution_count": 64,
   "metadata": {},
   "outputs": [
    {
     "data": {
      "text/plain": [
       "crash_record_id                          object\n",
       "crash_date                       datetime64[ns]\n",
       "posted_speed_limit                        int64\n",
       "traffic_control_device                   object\n",
       "device_condition                         object\n",
       "weather_condition                        object\n",
       "lighting_condition                       object\n",
       "first_crash_type                         object\n",
       "trafficway_type                          object\n",
       "alignment                                object\n",
       "roadway_surface_cond                     object\n",
       "road_defect                              object\n",
       "report_type                              object\n",
       "crash_type                               object\n",
       "intersection_related_i                   object\n",
       "damage                                   object\n",
       "date_police_notified                     object\n",
       "prim_contributory_cause                  object\n",
       "sec_contributory_cause                   object\n",
       "street_no                                object\n",
       "street_direction                         object\n",
       "street_name                              object\n",
       "beat_of_occurrence                        int64\n",
       "num_units                                object\n",
       "most_severe_injury                       object\n",
       "injuries_total                            int64\n",
       "injuries_fatal                           object\n",
       "injuries_incapacitating                  object\n",
       "injuries_non_incapacitating              object\n",
       "injuries_reported_not_evident            object\n",
       "injuries_no_indication                   object\n",
       "injuries_unknown                         object\n",
       "crash_hour                                int64\n",
       "crash_day_of_week                         int64\n",
       "crash_month                               int64\n",
       "latitude                                float64\n",
       "longitude                               float64\n",
       "location                                 object\n",
       "hit_and_run_i                            object\n",
       "dooring_i                                object\n",
       "crash_date_est_i                         object\n",
       "private_property_i                       object\n",
       "statements_taken_i                       object\n",
       "photos_taken_i                           object\n",
       "rd_no                                    object\n",
       "work_zone_i                              object\n",
       "work_zone_type                           object\n",
       "workers_present_i                        object\n",
       "lane_cnt                                 object\n",
       "crash_year                                int64\n",
       "dtype: object"
      ]
     },
     "execution_count": 64,
     "metadata": {},
     "output_type": "execute_result"
    }
   ],
   "source": [
    "crashes.dtypes"
   ]
  },
  {
   "cell_type": "code",
   "execution_count": 28,
   "metadata": {},
   "outputs": [
    {
     "data": {
      "text/plain": [
       "<AxesSubplot:title={'center':'Annual N of Reported Crashes'}>"
      ]
     },
     "execution_count": 28,
     "metadata": {},
     "output_type": "execute_result"
    },
    {
     "data": {
      "image/png": "[encoded data removed]",
      "text/plain": [
       "<Figure size 432x288 with 1 Axes>"
      ]
     },
     "metadata": {
      "needs_background": "light"
     },
     "output_type": "display_data"
    }
   ],
   "source": [
    "import matplotlib.pyplot as plt\n",
    "%matplotlib inline \n",
    "crashes['crash_year'].value_counts().sort_index().plot.bar(title='Annual N of Reported Crashes')"
   ]
  },
  {
   "cell_type": "markdown",
   "metadata": {},
   "source": [
    "Hard to know how to interpret this. The dataset was created in October 2017 (https://data.cityofchicago.org/Transportation/Traffic-Crashes-Crashes/85ca-t3if), so it's likely that the data from before January 2018 is not recorded in the same fashion. Let's dump the pre-2018 data from our analysis. . . "
   ]
  },
  {
   "cell_type": "code",
   "execution_count": 13,
   "metadata": {},
   "outputs": [
    {
     "data": {
      "text/plain": [
       "1755"
      ]
     },
     "execution_count": 13,
     "metadata": {},
     "output_type": "execute_result"
    }
   ],
   "source": [
    "len(crashes[crashes['crash_year']<2018])"
   ]
  },
  {
   "cell_type": "markdown",
   "metadata": {},
   "source": [
    "So we're going to dump roughly 1700 records."
   ]
  },
  {
   "cell_type": "code",
   "execution_count": 15,
   "metadata": {},
   "outputs": [
    {
     "data": {
      "text/plain": [
       "7498"
      ]
     },
     "execution_count": 15,
     "metadata": {},
     "output_type": "execute_result"
    }
   ],
   "source": [
    "crashes = crashes[crashes['crash_year']>2017]\n",
    "len(crashes)"
   ]
  },
  {
   "cell_type": "code",
   "execution_count": 16,
   "metadata": {},
   "outputs": [
    {
     "data": {
      "text/plain": [
       "<AxesSubplot:title={'center':'Annual N of Reported Crashes'}>"
      ]
     },
     "execution_count": 16,
     "metadata": {},
     "output_type": "execute_result"
    },
    {
     "data": {
      "image/png": "[encoded data removed]",
      "text/plain": [
       "<Figure size 432x288 with 1 Axes>"
      ]
     },
     "metadata": {
      "needs_background": "light"
     },
     "output_type": "display_data"
    }
   ],
   "source": [
    "crashes['crash_year'].value_counts().sort_index().plot.bar(title='Annual N of Reported Crashes')"
   ]
  },
  {
   "cell_type": "markdown",
   "metadata": {},
   "source": [
    "This graph shows that there were significantly fewer crashes reported in 2020 than in the two years prior. 2021 saw an increase, but not to the prior levels.\n",
    "\n",
    "Let's break it out by month, so we can compare what's going on annually . . "
   ]
  },
  {
   "cell_type": "code",
   "execution_count": 29,
   "metadata": {},
   "outputs": [
    {
     "data": {
      "text/plain": [
       "<AxesSubplot:title={'center':'Bicycle crashes by Month'}>"
      ]
     },
     "execution_count": 29,
     "metadata": {},
     "output_type": "execute_result"
    },
    {
     "data": {
      "image/png": "[encoded data removed]",
      "text/plain": [
       "<Figure size 432x288 with 1 Axes>"
      ]
     },
     "metadata": {
      "needs_background": "light"
     },
     "output_type": "display_data"
    }
   ],
   "source": [
    "crashes['crash_month'].value_counts().sort_index().plot.bar(title='Bicycle crashes by Month')"
   ]
  },
  {
   "cell_type": "markdown",
   "metadata": {},
   "source": [
    "To do this, we can use a pivot table to summarize the data, annually and by month.\n",
    "\n",
    "In a lot of records (>2000!), the \"injuries_total\" is zero, so it's better to count them then to sum them!"
   ]
  },
  {
   "cell_type": "code",
   "execution_count": 59,
   "metadata": {},
   "outputs": [],
   "source": [
    "crashes_pivoted = crashes.pivot_table(index = 'crash_month',\n",
    "    columns = 'crash_year', \n",
    "    values = 'injuries_total',\n",
    "    aggfunc = 'count'\n",
    "    )"
   ]
  },
  {
   "cell_type": "code",
   "execution_count": 60,
   "metadata": {},
   "outputs": [
    {
     "data": {
      "text/html": [
       "<div>\n",
       "<style scoped>\n",
       "    .dataframe tbody tr th:only-of-type {\n",
       "        vertical-align: middle;\n",
       "    }\n",
       "\n",
       "    .dataframe tbody tr th {\n",
       "        vertical-align: top;\n",
       "    }\n",
       "\n",
       "    .dataframe thead th {\n",
       "        text-align: right;\n",
       "    }\n",
       "</style>\n",
       "<table border=\"1\" class=\"dataframe\">\n",
       "  <thead>\n",
       "    <tr style=\"text-align: right;\">\n",
       "      <th>crash_year</th>\n",
       "      <th>2018</th>\n",
       "      <th>2019</th>\n",
       "      <th>2020</th>\n",
       "      <th>2021</th>\n",
       "      <th>2022</th>\n",
       "    </tr>\n",
       "    <tr>\n",
       "      <th>crash_month</th>\n",
       "      <th></th>\n",
       "      <th></th>\n",
       "      <th></th>\n",
       "      <th></th>\n",
       "      <th></th>\n",
       "    </tr>\n",
       "  </thead>\n",
       "  <tbody>\n",
       "    <tr>\n",
       "      <th>1</th>\n",
       "      <td>57.0</td>\n",
       "      <td>44.0</td>\n",
       "      <td>46.0</td>\n",
       "      <td>38.0</td>\n",
       "      <td>28.0</td>\n",
       "    </tr>\n",
       "    <tr>\n",
       "      <th>2</th>\n",
       "      <td>45.0</td>\n",
       "      <td>45.0</td>\n",
       "      <td>51.0</td>\n",
       "      <td>14.0</td>\n",
       "      <td>32.0</td>\n",
       "    </tr>\n",
       "    <tr>\n",
       "      <th>3</th>\n",
       "      <td>76.0</td>\n",
       "      <td>76.0</td>\n",
       "      <td>55.0</td>\n",
       "      <td>70.0</td>\n",
       "      <td>76.0</td>\n",
       "    </tr>\n",
       "    <tr>\n",
       "      <th>4</th>\n",
       "      <td>103.0</td>\n",
       "      <td>126.0</td>\n",
       "      <td>36.0</td>\n",
       "      <td>104.0</td>\n",
       "      <td>100.0</td>\n",
       "    </tr>\n",
       "    <tr>\n",
       "      <th>5</th>\n",
       "      <td>216.0</td>\n",
       "      <td>158.0</td>\n",
       "      <td>90.0</td>\n",
       "      <td>144.0</td>\n",
       "      <td>182.0</td>\n",
       "    </tr>\n",
       "    <tr>\n",
       "      <th>6</th>\n",
       "      <td>235.0</td>\n",
       "      <td>219.0</td>\n",
       "      <td>161.0</td>\n",
       "      <td>198.0</td>\n",
       "      <td>233.0</td>\n",
       "    </tr>\n",
       "    <tr>\n",
       "      <th>7</th>\n",
       "      <td>289.0</td>\n",
       "      <td>294.0</td>\n",
       "      <td>227.0</td>\n",
       "      <td>229.0</td>\n",
       "      <td>143.0</td>\n",
       "    </tr>\n",
       "    <tr>\n",
       "      <th>8</th>\n",
       "      <td>304.0</td>\n",
       "      <td>291.0</td>\n",
       "      <td>243.0</td>\n",
       "      <td>213.0</td>\n",
       "      <td>NaN</td>\n",
       "    </tr>\n",
       "    <tr>\n",
       "      <th>9</th>\n",
       "      <td>253.0</td>\n",
       "      <td>257.0</td>\n",
       "      <td>191.0</td>\n",
       "      <td>203.0</td>\n",
       "      <td>NaN</td>\n",
       "    </tr>\n",
       "    <tr>\n",
       "      <th>10</th>\n",
       "      <td>173.0</td>\n",
       "      <td>195.0</td>\n",
       "      <td>130.0</td>\n",
       "      <td>172.0</td>\n",
       "      <td>NaN</td>\n",
       "    </tr>\n",
       "    <tr>\n",
       "      <th>11</th>\n",
       "      <td>97.0</td>\n",
       "      <td>107.0</td>\n",
       "      <td>86.0</td>\n",
       "      <td>86.0</td>\n",
       "      <td>NaN</td>\n",
       "    </tr>\n",
       "    <tr>\n",
       "      <th>12</th>\n",
       "      <td>68.0</td>\n",
       "      <td>72.0</td>\n",
       "      <td>51.0</td>\n",
       "      <td>66.0</td>\n",
       "      <td>NaN</td>\n",
       "    </tr>\n",
       "  </tbody>\n",
       "</table>\n",
       "</div>"
      ],
      "text/plain": [
       "crash_year    2018   2019   2020   2021   2022\n",
       "crash_month                                   \n",
       "1             57.0   44.0   46.0   38.0   28.0\n",
       "2             45.0   45.0   51.0   14.0   32.0\n",
       "3             76.0   76.0   55.0   70.0   76.0\n",
       "4            103.0  126.0   36.0  104.0  100.0\n",
       "5            216.0  158.0   90.0  144.0  182.0\n",
       "6            235.0  219.0  161.0  198.0  233.0\n",
       "7            289.0  294.0  227.0  229.0  143.0\n",
       "8            304.0  291.0  243.0  213.0    NaN\n",
       "9            253.0  257.0  191.0  203.0    NaN\n",
       "10           173.0  195.0  130.0  172.0    NaN\n",
       "11            97.0  107.0   86.0   86.0    NaN\n",
       "12            68.0   72.0   51.0   66.0    NaN"
      ]
     },
     "execution_count": 60,
     "metadata": {},
     "output_type": "execute_result"
    }
   ],
   "source": [
    "crashes_pivoted"
   ]
  },
  {
   "cell_type": "code",
   "execution_count": 67,
   "metadata": {},
   "outputs": [
    {
     "data": {
      "text/plain": [
       "Text(0.5, 0, 'Month of Year')"
      ]
     },
     "execution_count": 67,
     "metadata": {},
     "output_type": "execute_result"
    },
    {
     "data": {
      "image/png": "[encoded data removed]",
      "text/plain": [
       "<Figure size 1224x720 with 1 Axes>"
      ]
     },
     "metadata": {
      "needs_background": "light"
     },
     "output_type": "display_data"
    }
   ],
   "source": [
    "crashes_pivoted.plot(kind ='bar',figsize=(17,10))\n",
    "plt.ylabel('Number of injuries')\n",
    "plt.xlabel('Month of Year')\n"
   ]
  },
  {
   "cell_type": "markdown",
   "metadata": {},
   "source": [
    "This graph shows the effects of Covid on the accidents reporting starkly.\n",
    "\n",
    "Recall that in Jan and Feb, Covid was mostly seen as a foreign problem, first in China, then in Europe. On March 13, President Trump declared a nationwide emergency and states began to shutdown schools and businesses. Some states began to roll these restrictions back as early as late April, but Chicago continued to have strong restrictions throughout 2020. (https://www.cdc.gov/museum/timeline/covid19.html)\n",
    "\n",
    "This timeline is reflected in the graph above. In Jan and Feb, the N reported in 2020 was very similar to the figures from 2018 and 2019. In March, the number dips and in April and May plummets. "
   ]
  },
  {
   "cell_type": "markdown",
   "metadata": {},
   "source": [
    "Bike accident reports are not evenly distributed across the city. Rather, they tend to be clustered in certain police beats. Let's examine this."
   ]
  },
  {
   "cell_type": "code",
   "execution_count": 69,
   "metadata": {},
   "outputs": [
    {
     "data": {
      "text/plain": [
       "<AxesSubplot:title={'center':'Pct of reports by police beat'}>"
      ]
     },
     "execution_count": 69,
     "metadata": {},
     "output_type": "execute_result"
    },
    {
     "data": {
      "image/png": "[encoded data removed]",
      "text/plain": [
       "<Figure size 432x288 with 1 Axes>"
      ]
     },
     "metadata": {
      "needs_background": "light"
     },
     "output_type": "display_data"
    }
   ],
   "source": [
    "crashes['beat_of_occurrence'].value_counts().head(20).plot.barh(title='Pct of reports by police beat')"
   ]
  },
  {
   "cell_type": "markdown",
   "metadata": {},
   "source": [
    "Its clear that 1831 and 1213 are far ahead of some of the other beats. Does this vary by year? Again, we can look at this with a pivot table."
   ]
  },
  {
   "cell_type": "code",
   "execution_count": 84,
   "metadata": {},
   "outputs": [],
   "source": [
    "beats_pivoted = crashes.pivot_table(index = 'beat_of_occurrence',\n",
    "    columns = 'crash_year', \n",
    "    values = 'injuries_total',\n",
    "    aggfunc = 'count',\n",
    "    margins = True, margins_name='Total'\n",
    "    )"
   ]
  },
  {
   "cell_type": "code",
   "execution_count": 85,
   "metadata": {},
   "outputs": [
    {
     "data": {
      "text/html": [
       "<div>\n",
       "<style scoped>\n",
       "    .dataframe tbody tr th:only-of-type {\n",
       "        vertical-align: middle;\n",
       "    }\n",
       "\n",
       "    .dataframe tbody tr th {\n",
       "        vertical-align: top;\n",
       "    }\n",
       "\n",
       "    .dataframe thead th {\n",
       "        text-align: right;\n",
       "    }\n",
       "</style>\n",
       "<table border=\"1\" class=\"dataframe\">\n",
       "  <thead>\n",
       "    <tr style=\"text-align: right;\">\n",
       "      <th>crash_year</th>\n",
       "      <th>2018</th>\n",
       "      <th>2019</th>\n",
       "      <th>2020</th>\n",
       "      <th>2021</th>\n",
       "      <th>2022</th>\n",
       "      <th>Total</th>\n",
       "    </tr>\n",
       "    <tr>\n",
       "      <th>beat_of_occurrence</th>\n",
       "      <th></th>\n",
       "      <th></th>\n",
       "      <th></th>\n",
       "      <th></th>\n",
       "      <th></th>\n",
       "      <th></th>\n",
       "    </tr>\n",
       "  </thead>\n",
       "  <tbody>\n",
       "    <tr>\n",
       "      <th>111</th>\n",
       "      <td>16.0</td>\n",
       "      <td>10.0</td>\n",
       "      <td>1.0</td>\n",
       "      <td>10.0</td>\n",
       "      <td>7.0</td>\n",
       "      <td>44</td>\n",
       "    </tr>\n",
       "    <tr>\n",
       "      <th>112</th>\n",
       "      <td>8.0</td>\n",
       "      <td>10.0</td>\n",
       "      <td>1.0</td>\n",
       "      <td>11.0</td>\n",
       "      <td>4.0</td>\n",
       "      <td>34</td>\n",
       "    </tr>\n",
       "    <tr>\n",
       "      <th>113</th>\n",
       "      <td>3.0</td>\n",
       "      <td>4.0</td>\n",
       "      <td>5.0</td>\n",
       "      <td>5.0</td>\n",
       "      <td>1.0</td>\n",
       "      <td>18</td>\n",
       "    </tr>\n",
       "    <tr>\n",
       "      <th>114</th>\n",
       "      <td>13.0</td>\n",
       "      <td>16.0</td>\n",
       "      <td>12.0</td>\n",
       "      <td>15.0</td>\n",
       "      <td>6.0</td>\n",
       "      <td>62</td>\n",
       "    </tr>\n",
       "    <tr>\n",
       "      <th>121</th>\n",
       "      <td>16.0</td>\n",
       "      <td>19.0</td>\n",
       "      <td>4.0</td>\n",
       "      <td>13.0</td>\n",
       "      <td>4.0</td>\n",
       "      <td>56</td>\n",
       "    </tr>\n",
       "    <tr>\n",
       "      <th>...</th>\n",
       "      <td>...</td>\n",
       "      <td>...</td>\n",
       "      <td>...</td>\n",
       "      <td>...</td>\n",
       "      <td>...</td>\n",
       "      <td>...</td>\n",
       "    </tr>\n",
       "    <tr>\n",
       "      <th>2532</th>\n",
       "      <td>1.0</td>\n",
       "      <td>2.0</td>\n",
       "      <td>2.0</td>\n",
       "      <td>NaN</td>\n",
       "      <td>NaN</td>\n",
       "      <td>5</td>\n",
       "    </tr>\n",
       "    <tr>\n",
       "      <th>2533</th>\n",
       "      <td>7.0</td>\n",
       "      <td>7.0</td>\n",
       "      <td>4.0</td>\n",
       "      <td>11.0</td>\n",
       "      <td>2.0</td>\n",
       "      <td>31</td>\n",
       "    </tr>\n",
       "    <tr>\n",
       "      <th>2534</th>\n",
       "      <td>6.0</td>\n",
       "      <td>9.0</td>\n",
       "      <td>4.0</td>\n",
       "      <td>8.0</td>\n",
       "      <td>4.0</td>\n",
       "      <td>31</td>\n",
       "    </tr>\n",
       "    <tr>\n",
       "      <th>2535</th>\n",
       "      <td>16.0</td>\n",
       "      <td>7.0</td>\n",
       "      <td>4.0</td>\n",
       "      <td>6.0</td>\n",
       "      <td>3.0</td>\n",
       "      <td>36</td>\n",
       "    </tr>\n",
       "    <tr>\n",
       "      <th>Total</th>\n",
       "      <td>1916.0</td>\n",
       "      <td>1884.0</td>\n",
       "      <td>1367.0</td>\n",
       "      <td>1537.0</td>\n",
       "      <td>794.0</td>\n",
       "      <td>7498</td>\n",
       "    </tr>\n",
       "  </tbody>\n",
       "</table>\n",
       "<p>270 rows × 6 columns</p>\n",
       "</div>"
      ],
      "text/plain": [
       "crash_year            2018    2019    2020    2021   2022  Total\n",
       "beat_of_occurrence                                              \n",
       "111                   16.0    10.0     1.0    10.0    7.0     44\n",
       "112                    8.0    10.0     1.0    11.0    4.0     34\n",
       "113                    3.0     4.0     5.0     5.0    1.0     18\n",
       "114                   13.0    16.0    12.0    15.0    6.0     62\n",
       "121                   16.0    19.0     4.0    13.0    4.0     56\n",
       "...                    ...     ...     ...     ...    ...    ...\n",
       "2532                   1.0     2.0     2.0     NaN    NaN      5\n",
       "2533                   7.0     7.0     4.0    11.0    2.0     31\n",
       "2534                   6.0     9.0     4.0     8.0    4.0     31\n",
       "2535                  16.0     7.0     4.0     6.0    3.0     36\n",
       "Total               1916.0  1884.0  1367.0  1537.0  794.0   7498\n",
       "\n",
       "[270 rows x 6 columns]"
      ]
     },
     "execution_count": 85,
     "metadata": {},
     "output_type": "execute_result"
    }
   ],
   "source": [
    "beats_pivoted"
   ]
  },
  {
   "cell_type": "code",
   "execution_count": 88,
   "metadata": {},
   "outputs": [],
   "source": [
    "bp_sorted = beats_pivoted.sort_values(by=('Total'),ascending=False)"
   ]
  },
  {
   "cell_type": "code",
   "execution_count": 93,
   "metadata": {},
   "outputs": [
    {
     "data": {
      "text/plain": [
       "<AxesSubplot:ylabel='beat_of_occurrence'>"
      ]
     },
     "execution_count": 93,
     "metadata": {},
     "output_type": "execute_result"
    },
    {
     "data": {
      "image/png": "[encoded data removed]",
      "text/plain": [
       "<Figure size 720x1224 with 1 Axes>"
      ]
     },
     "metadata": {
      "needs_background": "light"
     },
     "output_type": "display_data"
    }
   ],
   "source": [
    "bp_sorted.iloc[1:21,0:5].plot(kind ='barh',figsize=(10,17))"
   ]
  }
 ],
 "metadata": {
  "kernelspec": {
   "display_name": "Python 3.8.10 64-bit",
   "language": "python",
   "name": "python3"
  },
  "language_info": {
   "codemirror_mode": {
    "name": "ipython",
    "version": 3
   },
   "file_extension": ".py",
   "mimetype": "text/x-python",
   "name": "python",
   "nbconvert_exporter": "python",
   "pygments_lexer": "ipython3",
   "version": "3.10.4"
  },
  "orig_nbformat": 4,
  "vscode": {
   "interpreter": {
    "hash": "916dbcbb3f70747c44a77c7bcd40155683ae19c65e1c03b4aa3499c5328201f1"
   }
  }
 },
 "nbformat": 4,
 "nbformat_minor": 2
}
