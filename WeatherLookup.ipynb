{
 "cells": [
  {
   "cell_type": "markdown",
   "metadata": {},
   "source": [
    "This notebook will figure out how to correctly format an API call to the visual crossing weather app. Documentation is here: \n",
    ">https://www.visualcrossing.com/resources/documentation/weather-api/timeline-weather-api/\n",
    "\n",
    "The goal is to have a function that can be given the lat/long and date/time of an event and return the weather conditions."
   ]
  },
  {
   "cell_type": "code",
   "execution_count": 4,
   "metadata": {},
   "outputs": [],
   "source": [
    "# get API tokens\n",
    "with open('.env.development') as f:\n",
    "    data = f.read()\n",
    "\n",
    "for line in data.split('\\n'):\n",
    "    head,sep,tail = line.partition(' = ')\n",
    "    \n",
    "    if head == 'crashAPIkey':\n",
    "        crashAPIkey = tail\n",
    "    elif head == 'weatherAPIkey':\n",
    "        weatherAPIkey = tail\n",
    "\n",
    "#print(f'CrashAPIToken {crashAPIkey},WeatherAPIToken {weatherAPIkey} ')"
   ]
  },
  {
   "cell_type": "code",
   "execution_count": 5,
   "metadata": {},
   "outputs": [],
   "source": [
    "lat = '39.711714'\n",
    "lon = '-90.191958'\n",
    "date = '2020-12-15'\n",
    "time = '14:00:00'"
   ]
  },
  {
   "cell_type": "code",
   "execution_count": null,
   "metadata": {},
   "outputs": [],
   "source": [
    "ApiQuery = 'https://weather.visualcrossing.com/VisualCrossingWebServices/rest/services/timeline/'+\\\n",
    "            lat+'%2C'+lon+'/'+date+'T'+time+'?unitGroup=us&key='+weatherAPIkey+'&include=current&contentType=json'\n",
    "\n",
    "#print(ApiQuery)"
   ]
  },
  {
   "cell_type": "code",
   "execution_count": 7,
   "metadata": {},
   "outputs": [],
   "source": [
    "import urllib\n",
    "try: \n",
    "    with urllib.request.urlopen(ApiQuery) as response:\n",
    "        html = response.read()\n",
    "except urllib.error.HTTPError  as e:\n",
    "    ErrorInfo= e.read().decode() \n",
    "    print('Error code: ', e.code, ErrorInfo)\n",
    "    sys.exit()\n",
    "except  urllib.error.URLError as e:\n",
    "    ErrorInfo= e.read().decode() \n",
    "    print('Error code: ', e.code,ErrorInfo)\n",
    "    sys.exit()"
   ]
  },
  {
   "cell_type": "code",
   "execution_count": 8,
   "metadata": {},
   "outputs": [],
   "source": [
    "import json\n",
    "weather = json.loads(html.decode('utf-8'))"
   ]
  },
  {
   "cell_type": "code",
   "execution_count": 9,
   "metadata": {},
   "outputs": [
    {
     "data": {
      "text/plain": [
       "{'queryCost': 1,\n",
       " 'latitude': 39.711714,\n",
       " 'longitude': -90.191958,\n",
       " 'resolvedAddress': '39.711714,-90.191958',\n",
       " 'address': '39.711714,-90.191958',\n",
       " 'timezone': 'America/Chicago',\n",
       " 'tzoffset': -6.0,\n",
       " 'days': [{'datetime': '2020-12-15',\n",
       "   'datetimeEpoch': 1608012000,\n",
       "   'tempmax': 31.7,\n",
       "   'tempmin': 20.7,\n",
       "   'temp': 26.0,\n",
       "   'feelslikemax': 24.1,\n",
       "   'feelslikemin': 11.4,\n",
       "   'feelslike': 17.3,\n",
       "   'dew': 22.4,\n",
       "   'humidity': 86.1,\n",
       "   'precip': 0.0,\n",
       "   'precipprob': 0.0,\n",
       "   'precipcover': 0.0,\n",
       "   'preciptype': None,\n",
       "   'snow': 0.0,\n",
       "   'snowdepth': 0.0,\n",
       "   'windgust': 25.3,\n",
       "   'windspeed': 15.9,\n",
       "   'winddir': 57.3,\n",
       "   'pressure': 1025.1,\n",
       "   'cloudcover': 29.8,\n",
       "   'visibility': 9.9,\n",
       "   'solarradiation': 61.6,\n",
       "   'solarenergy': 3.3,\n",
       "   'uvindex': 2.0,\n",
       "   'sunrise': '07:15:05',\n",
       "   'sunriseEpoch': 1608038105,\n",
       "   'sunset': '16:37:23',\n",
       "   'sunsetEpoch': 1608071843,\n",
       "   'moonphase': 0.0,\n",
       "   'conditions': 'Partially cloudy',\n",
       "   'description': 'Becoming cloudy in the afternoon.',\n",
       "   'icon': 'partly-cloudy-day',\n",
       "   'stations': ['74466653944',\n",
       "    'KSPI',\n",
       "    'MASI2',\n",
       "    'KPPQ',\n",
       "    '74466353950',\n",
       "    '72439093822',\n",
       "    'KIJX',\n",
       "    'E0975'],\n",
       "   'source': 'obs'}],\n",
       " 'stations': {'74466653944': {'distance': 8545.0,\n",
       "   'latitude': 39.78,\n",
       "   'longitude': -90.238,\n",
       "   'useCount': 0,\n",
       "   'id': '74466653944',\n",
       "   'name': 'JACKSONVILLE MUNICIPAL AIRPORT, IL US',\n",
       "   'quality': 99,\n",
       "   'contribution': 0.0},\n",
       "  'KSPI': {'distance': 47232.0,\n",
       "   'latitude': 39.85,\n",
       "   'longitude': -89.67,\n",
       "   'useCount': 0,\n",
       "   'id': 'KSPI',\n",
       "   'name': 'KSPI',\n",
       "   'quality': 100,\n",
       "   'contribution': 0.0},\n",
       "  'MASI2': {'distance': 71799.0,\n",
       "   'latitude': 40.317,\n",
       "   'longitude': -89.9,\n",
       "   'useCount': 0,\n",
       "   'id': 'MASI2',\n",
       "   'name': 'MASON #1 IL US SCAN',\n",
       "   'quality': 0,\n",
       "   'contribution': 0.0},\n",
       "  'KPPQ': {'distance': 51011.0,\n",
       "   'latitude': 39.64,\n",
       "   'longitude': -90.78,\n",
       "   'useCount': 0,\n",
       "   'id': 'KPPQ',\n",
       "   'name': 'KPPQ',\n",
       "   'quality': 99,\n",
       "   'contribution': 0.0},\n",
       "  '74466353950': {'distance': 50893.0,\n",
       "   'latitude': 39.639,\n",
       "   'longitude': -90.778,\n",
       "   'useCount': 0,\n",
       "   'id': '74466353950',\n",
       "   'name': 'PITTSFIELD PENSTONE MUNICIPAL AIRPORT, IL US',\n",
       "   'quality': 100,\n",
       "   'contribution': 0.0},\n",
       "  '72439093822': {'distance': 45917.0,\n",
       "   'latitude': 39.845,\n",
       "   'longitude': -89.684,\n",
       "   'useCount': 0,\n",
       "   'id': '72439093822',\n",
       "   'name': 'SPRINGFIELD ABRAHAM LINCOLN CAPITAL AIRPORT, IL US',\n",
       "   'quality': 100,\n",
       "   'contribution': 0.0},\n",
       "  'KIJX': {'distance': 7682.0,\n",
       "   'latitude': 39.77,\n",
       "   'longitude': -90.24,\n",
       "   'useCount': 0,\n",
       "   'id': 'KIJX',\n",
       "   'name': 'KIJX',\n",
       "   'quality': 99,\n",
       "   'contribution': 0.0},\n",
       "  'E0975': {'distance': 23834.0,\n",
       "   'latitude': 39.631,\n",
       "   'longitude': -90.45,\n",
       "   'useCount': 0,\n",
       "   'id': 'E0975',\n",
       "   'name': 'EW0975 Winchester IL US',\n",
       "   'quality': 0,\n",
       "   'contribution': 0.0}},\n",
       " 'currentConditions': {'datetime': '14:00:00',\n",
       "  'datetimeEpoch': 1608062400,\n",
       "  'temp': 30.9,\n",
       "  'feelslike': 22.3,\n",
       "  'humidity': 77.1,\n",
       "  'dew': 24.6,\n",
       "  'precip': 0.0,\n",
       "  'precipprob': 0.0,\n",
       "  'snow': 0.0,\n",
       "  'snowdepth': 0.0,\n",
       "  'preciptype': None,\n",
       "  'windgust': None,\n",
       "  'windspeed': 10.2,\n",
       "  'winddir': 60.0,\n",
       "  'pressure': 1023.9,\n",
       "  'visibility': 9.9,\n",
       "  'cloudcover': 99.7,\n",
       "  'solarradiation': 99.0,\n",
       "  'solarenergy': 0.4,\n",
       "  'uvindex': 1.0,\n",
       "  'conditions': 'Overcast',\n",
       "  'icon': 'cloudy',\n",
       "  'stations': ['74466653944',\n",
       "   'KSPI',\n",
       "   'KPPQ',\n",
       "   '74466353950',\n",
       "   '72439093822',\n",
       "   'KIJX'],\n",
       "  'source': 'obs',\n",
       "  'sunrise': '07:15:05',\n",
       "  'sunriseEpoch': 1608038105,\n",
       "  'sunset': '16:37:23',\n",
       "  'sunsetEpoch': 1608071843,\n",
       "  'moonphase': 0.01}}"
      ]
     },
     "execution_count": 9,
     "metadata": {},
     "output_type": "execute_result"
    }
   ],
   "source": [
    "weather"
   ]
  },
  {
   "cell_type": "code",
   "execution_count": 10,
   "metadata": {},
   "outputs": [
    {
     "data": {
      "text/plain": [
       "dict"
      ]
     },
     "execution_count": 10,
     "metadata": {},
     "output_type": "execute_result"
    }
   ],
   "source": [
    "type(weather)"
   ]
  },
  {
   "cell_type": "markdown",
   "metadata": {},
   "source": [
    "`weather` is a dictionary with a number of K,V, including:\n",
    "* `days`, a one-entry list containing a dictionary of values for the given day such as\n",
    "    * datetime\n",
    "    * tempmax / tempmin / temp (average?)\n",
    "    * feelslikemax / feelslikemin / feelslike\n",
    "    * dew / humidity\n",
    "    * precip / precipprob / preciptype\n",
    "    * snow / snowdepth\n",
    "    * windgust / windspeed / winddir\n",
    "    * sunrise / sunset\n",
    "* `stations`, a dictionary of dictionary values for the stations providing data\n",
    "* `currentConditions`, a dictionary of values for the date and time specified, including:\n",
    "    * temp / feelslike\n",
    "    * dew / humidity\n",
    "    * precip / precipprob / preciptype\n",
    "    * snow / snowdepth\n",
    "    * windgust / windspeed / winddir\n",
    "    * conditions\n",
    "\n",
    "days and current conditions can be accessed like this:\n",
    "> tempmax = weather['days'][0]['tempmax']\n",
    "\n",
    "> temp = weather['currentConditions']['temp']"
   ]
  },
  {
   "cell_type": "code",
   "execution_count": 23,
   "metadata": {},
   "outputs": [
    {
     "name": "stdout",
     "output_type": "stream",
     "text": [
      "temp reported to be 30.9\n",
      "windspeed reported to be 10.2\n",
      "winddir reported to be 60.0\n",
      "preciptype reported to be None\n",
      "conditions reported to be Overcast\n"
     ]
    }
   ],
   "source": [
    "for item in ['temp','windspeed','winddir','preciptype','conditions']:\n",
    "    val = weather['currentConditions'][item]\n",
    "    print(f'{item} reported to be {val}')"
   ]
  },
  {
   "cell_type": "markdown",
   "metadata": {},
   "source": [
    "How to add these to a DF?\n",
    "1) Define a function that takes the relevant values from the DF and returns whatever info is desired from HTML lookup\n",
    "\n",
    "2) Add it to the DF"
   ]
  },
  {
   "cell_type": "code",
   "execution_count": 3,
   "metadata": {},
   "outputs": [],
   "source": [
    "def weatherLookup(lat,lon,dateTime,APIkey=weatherAPIkey):\n",
    "    import urllib\n",
    "    import json\n",
    "    # the data in the DF is float and dateTime, which needs to be convered to strings to be added to the API query\n",
    "    latS, lonS  = str(lat), str(lon)\n",
    "    dateTimeS = dateTime.strftime('%Y-%m-%dT%H:%M:%S') #YYYY-MM-DDTHH:MM:SS\n",
    "    ApiQuery = 'https://weather.visualcrossing.com/VisualCrossingWebServices/rest/services/timeline/'+\\\n",
    "            latS+'%2C'+lonS+'/'+dateTimeS+'?unitGroup=us&key='+APIkey+'&include=current&contentType=json'\n",
    "    try: \n",
    "        with urllib.request.urlopen(ApiQuery) as response:\n",
    "            html = response.read()\n",
    "    except urllib.error.HTTPError  as e:\n",
    "        ErrorInfo= e.read().decode() \n",
    "        print('Error code: ', e.code, ErrorInfo)\n",
    "        sys.exit()\n",
    "    except  urllib.error.URLError as e:\n",
    "        ErrorInfo= e.read().decode() \n",
    "        print('Error code: ', e.code,ErrorInfo)\n",
    "        sys.exit()\n",
    "\n",
    "    weather = json.loads(html.decode('utf-8'))\n",
    "    return weather['currentConditions']['temp'], weather['currentConditions']['conditions'], weather['currentConditions']['preciptype']"
   ]
  },
  {
   "cell_type": "code",
   "execution_count": null,
   "metadata": {},
   "outputs": [],
   "source": [
    "# add three columns to the DF with the values returned from the weatherLookup function\n",
    "test[['wTemp','wCond','wPrecip']] = \\\n",
    "    [weatherLookup(*a) for a in tuple(zip(test['latitude'],test['longitude'],test['crash_date']))]"
   ]
  },
  {
   "cell_type": "code",
   "execution_count": 12,
   "metadata": {},
   "outputs": [],
   "source": [
    "import pandas as pd"
   ]
  },
  {
   "cell_type": "code",
   "execution_count": 30,
   "metadata": {},
   "outputs": [],
   "source": [
    "w_list = []\n",
    "for i in range(10):\n",
    "    w_list.append(weather)"
   ]
  },
  {
   "cell_type": "code",
   "execution_count": 31,
   "metadata": {},
   "outputs": [],
   "source": [
    "w_df = pd.DataFrame.from_records(w_list)"
   ]
  },
  {
   "cell_type": "code",
   "execution_count": 33,
   "metadata": {},
   "outputs": [
    {
     "data": {
      "text/html": [
       "<div>\n",
       "<style scoped>\n",
       "    .dataframe tbody tr th:only-of-type {\n",
       "        vertical-align: middle;\n",
       "    }\n",
       "\n",
       "    .dataframe tbody tr th {\n",
       "        vertical-align: top;\n",
       "    }\n",
       "\n",
       "    .dataframe thead th {\n",
       "        text-align: right;\n",
       "    }\n",
       "</style>\n",
       "<table border=\"1\" class=\"dataframe\">\n",
       "  <thead>\n",
       "    <tr style=\"text-align: right;\">\n",
       "      <th></th>\n",
       "      <th>queryCost</th>\n",
       "      <th>latitude</th>\n",
       "      <th>longitude</th>\n",
       "      <th>resolvedAddress</th>\n",
       "      <th>address</th>\n",
       "      <th>timezone</th>\n",
       "      <th>tzoffset</th>\n",
       "      <th>days</th>\n",
       "      <th>stations</th>\n",
       "      <th>currentConditions</th>\n",
       "    </tr>\n",
       "  </thead>\n",
       "  <tbody>\n",
       "    <tr>\n",
       "      <th>0</th>\n",
       "      <td>1</td>\n",
       "      <td>39.711714</td>\n",
       "      <td>-90.191958</td>\n",
       "      <td>39.711714,-90.191958</td>\n",
       "      <td>39.711714,-90.191958</td>\n",
       "      <td>America/Chicago</td>\n",
       "      <td>-6.0</td>\n",
       "      <td>[{'datetime': '2020-12-15', 'datetimeEpoch': 1...</td>\n",
       "      <td>{'74466653944': {'distance': 8545.0, 'latitude...</td>\n",
       "      <td>{'datetime': '14:00:00', 'datetimeEpoch': 1608...</td>\n",
       "    </tr>\n",
       "    <tr>\n",
       "      <th>1</th>\n",
       "      <td>1</td>\n",
       "      <td>39.711714</td>\n",
       "      <td>-90.191958</td>\n",
       "      <td>39.711714,-90.191958</td>\n",
       "      <td>39.711714,-90.191958</td>\n",
       "      <td>America/Chicago</td>\n",
       "      <td>-6.0</td>\n",
       "      <td>[{'datetime': '2020-12-15', 'datetimeEpoch': 1...</td>\n",
       "      <td>{'74466653944': {'distance': 8545.0, 'latitude...</td>\n",
       "      <td>{'datetime': '14:00:00', 'datetimeEpoch': 1608...</td>\n",
       "    </tr>\n",
       "    <tr>\n",
       "      <th>2</th>\n",
       "      <td>1</td>\n",
       "      <td>39.711714</td>\n",
       "      <td>-90.191958</td>\n",
       "      <td>39.711714,-90.191958</td>\n",
       "      <td>39.711714,-90.191958</td>\n",
       "      <td>America/Chicago</td>\n",
       "      <td>-6.0</td>\n",
       "      <td>[{'datetime': '2020-12-15', 'datetimeEpoch': 1...</td>\n",
       "      <td>{'74466653944': {'distance': 8545.0, 'latitude...</td>\n",
       "      <td>{'datetime': '14:00:00', 'datetimeEpoch': 1608...</td>\n",
       "    </tr>\n",
       "  </tbody>\n",
       "</table>\n",
       "</div>"
      ],
      "text/plain": [
       "   queryCost   latitude  longitude       resolvedAddress  \\\n",
       "0          1  39.711714 -90.191958  39.711714,-90.191958   \n",
       "1          1  39.711714 -90.191958  39.711714,-90.191958   \n",
       "2          1  39.711714 -90.191958  39.711714,-90.191958   \n",
       "\n",
       "                address         timezone  tzoffset  \\\n",
       "0  39.711714,-90.191958  America/Chicago      -6.0   \n",
       "1  39.711714,-90.191958  America/Chicago      -6.0   \n",
       "2  39.711714,-90.191958  America/Chicago      -6.0   \n",
       "\n",
       "                                                days  \\\n",
       "0  [{'datetime': '2020-12-15', 'datetimeEpoch': 1...   \n",
       "1  [{'datetime': '2020-12-15', 'datetimeEpoch': 1...   \n",
       "2  [{'datetime': '2020-12-15', 'datetimeEpoch': 1...   \n",
       "\n",
       "                                            stations  \\\n",
       "0  {'74466653944': {'distance': 8545.0, 'latitude...   \n",
       "1  {'74466653944': {'distance': 8545.0, 'latitude...   \n",
       "2  {'74466653944': {'distance': 8545.0, 'latitude...   \n",
       "\n",
       "                                   currentConditions  \n",
       "0  {'datetime': '14:00:00', 'datetimeEpoch': 1608...  \n",
       "1  {'datetime': '14:00:00', 'datetimeEpoch': 1608...  \n",
       "2  {'datetime': '14:00:00', 'datetimeEpoch': 1608...  "
      ]
     },
     "execution_count": 33,
     "metadata": {},
     "output_type": "execute_result"
    }
   ],
   "source": [
    "w_df.head(3)"
   ]
  },
  {
   "cell_type": "code",
   "execution_count": 38,
   "metadata": {},
   "outputs": [
    {
     "data": {
      "text/plain": [
       "'14:00:00'"
      ]
     },
     "execution_count": 38,
     "metadata": {},
     "output_type": "execute_result"
    }
   ],
   "source": [
    "w2 = weather['currentConditions']\n"
   ]
  },
  {
   "cell_type": "code",
   "execution_count": 42,
   "metadata": {},
   "outputs": [
    {
     "data": {
      "text/plain": [
       "{'datetime': '14:00:00',\n",
       " 'datetimeEpoch': 1608062400,\n",
       " 'temp': 30.9,\n",
       " 'feelslike': 22.3,\n",
       " 'humidity': 77.1,\n",
       " 'dew': 24.6,\n",
       " 'precip': 0.0,\n",
       " 'precipprob': 0.0,\n",
       " 'snow': 0.0,\n",
       " 'snowdepth': 0.0,\n",
       " 'preciptype': None,\n",
       " 'windgust': None,\n",
       " 'windspeed': 10.2,\n",
       " 'winddir': 60.0,\n",
       " 'pressure': 1023.9,\n",
       " 'visibility': 9.9,\n",
       " 'cloudcover': 99.7,\n",
       " 'solarradiation': 99.0,\n",
       " 'solarenergy': 0.4,\n",
       " 'uvindex': 1.0,\n",
       " 'conditions': 'Overcast',\n",
       " 'icon': 'cloudy',\n",
       " 'stations': ['74466653944',\n",
       "  'KSPI',\n",
       "  'KPPQ',\n",
       "  '74466353950',\n",
       "  '72439093822',\n",
       "  'KIJX'],\n",
       " 'source': 'obs',\n",
       " 'sunrise': '07:15:05',\n",
       " 'sunriseEpoch': 1608038105,\n",
       " 'sunset': '16:37:23',\n",
       " 'sunsetEpoch': 1608071843,\n",
       " 'moonphase': 0.01,\n",
       " 'date': '2020-12-15',\n",
       " 'time': '14:00:00'}"
      ]
     },
     "execution_count": 42,
     "metadata": {},
     "output_type": "execute_result"
    }
   ],
   "source": [
    "w2['date'] = weather['days'][0]['datetime']\n",
    "w2['time'] = w2['datetime']\n",
    "w2"
   ]
  },
  {
   "cell_type": "code",
   "execution_count": null,
   "metadata": {},
   "outputs": [],
   "source": []
  }
 ],
 "metadata": {
  "kernelspec": {
   "display_name": "Python 3.10.6 ('default')",
   "language": "python",
   "name": "python3"
  },
  "language_info": {
   "codemirror_mode": {
    "name": "ipython",
    "version": 3
   },
   "file_extension": ".py",
   "mimetype": "text/x-python",
   "name": "python",
   "nbconvert_exporter": "python",
   "pygments_lexer": "ipython3",
   "version": "3.10.6"
  },
  "orig_nbformat": 4,
  "vscode": {
   "interpreter": {
    "hash": "3fd9bb179558f52c0fd35b67e8bb6d5d0ecd33ead53ba97d5f52ce04240a2830"
   }
  }
 },
 "nbformat": 4,
 "nbformat_minor": 2
}
