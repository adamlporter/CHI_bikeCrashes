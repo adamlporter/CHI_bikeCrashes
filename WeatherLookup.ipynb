{
 "cells": [
  {
   "cell_type": "markdown",
   "metadata": {},
   "source": [
    "This notebook will figure out how to correctly format an API call to the visual crossing weather app. Documentation is here: \n",
    ">https://www.visualcrossing.com/resources/documentation/weather-api/timeline-weather-api/\n",
    "\n",
    "The goal is to have a function that can be given the lat/long and date/time of an event and return the weather conditions."
   ]
  },
  {
   "cell_type": "code",
   "execution_count": 2,
   "metadata": {},
   "outputs": [],
   "source": [
    "# get API tokens\n",
    "with open('.env.development') as f:\n",
    "    data = f.read()\n",
    "\n",
    "for line in data.split('\\n'):\n",
    "    head,sep,tail = line.partition(' = ')\n",
    "    \n",
    "    if head == 'crashAPIkey':\n",
    "        crashAPIkey = tail\n",
    "    elif head == 'weatherAPIkey':\n",
    "        weatherAPIkey = tail\n",
    "\n",
    "#print(f'CrashAPIToken {crashAPIkey},WeatherAPIToken {weatherAPIkey} ')"
   ]
  },
  {
   "cell_type": "code",
   "execution_count": 4,
   "metadata": {},
   "outputs": [],
   "source": [
    "lat = '39.711714'\n",
    "lon = '-90.191958'\n",
    "date = '2020-12-15'\n",
    "time = '14:00:00'"
   ]
  },
  {
   "cell_type": "code",
   "execution_count": 5,
   "metadata": {},
   "outputs": [
    {
     "name": "stdout",
     "output_type": "stream",
     "text": [
      "https://weather.visualcrossing.com/VisualCrossingWebServices/rest/services/timeline/39.711714%2C-90.191958/2020-12-15T14:00:00?unitGroup=us&key=EJFB8QG6H8BUGKYGSSY4PF4BQ&include=current&contentType=json\n"
     ]
    }
   ],
   "source": [
    "ApiQuery = 'https://weather.visualcrossing.com/VisualCrossingWebServices/rest/services/timeline/'+\\\n",
    "            lat+'%2C'+lon+'/'+date+'T'+time+'?unitGroup=us&key='+weatherAPIkey+'&include=current&contentType=json'\n",
    "\n",
    "print(ApiQuery)"
   ]
  },
  {
   "cell_type": "code",
   "execution_count": 8,
   "metadata": {},
   "outputs": [],
   "source": [
    "import urllib\n",
    "try: \n",
    "    with urllib.request.urlopen(ApiQuery) as response:\n",
    "        html = response.read()\n",
    "except urllib.error.HTTPError  as e:\n",
    "    ErrorInfo= e.read().decode() \n",
    "    print('Error code: ', e.code, ErrorInfo)\n",
    "    sys.exit()\n",
    "except  urllib.error.URLError as e:\n",
    "    ErrorInfo= e.read().decode() \n",
    "    print('Error code: ', e.code,ErrorInfo)\n",
    "    sys.exit()"
   ]
  },
  {
   "cell_type": "code",
   "execution_count": null,
   "metadata": {},
   "outputs": [],
   "source": [
    "import json\n",
    "weather = json.loads(html.decode('utf-8'))"
   ]
  },
  {
   "cell_type": "markdown",
   "metadata": {},
   "source": [
    "condistions at lat/long date/time:\n",
    "* 'temp': 30.9,\n",
    "* 'feelslike': 22.3,\n",
    "* 'humidity': 77.1,\n",
    "* 'dew': 24.6,\n",
    "* 'precip': 0.0,\n",
    "* 'precipprob': 0.0,\n",
    "* 'snow': 0.0,\n",
    "* 'snowdepth': 0.0,\n",
    "* 'preciptype': None,\n",
    "* 'windgust': None,\n",
    "* 'windspeed': 10.2,\n",
    "* 'winddir': 60.0,\n",
    "* 'pressure': 1023.9,\n",
    "* 'visibility': 9.9,\n",
    "* 'cloudcover': 99.7,\n",
    "* 'solarradiation': 99.0,\n",
    "* 'solarenergy': 0.4,\n",
    "* 'uvindex': 1.0,\n",
    "* 'conditions': 'Overcast',\n",
    "* 'icon': 'cloudy',\n",
    "* 'stations': ['74466653944','KSPI','KPPQ','74466353950', '72439093822','KIJX'],\n",
    "* 'source': 'obs',\n",
    "* 'sunrise': '07:15:05',\n",
    "* 'sunriseEpoch': 1608038105,\n",
    "* 'sunset': '16:37:23',\n",
    "* 'sunsetEpoch': 1608071843,\n",
    "* 'moonphase': 0.01}"
   ]
  },
  {
   "cell_type": "code",
   "execution_count": 23,
   "metadata": {},
   "outputs": [
    {
     "name": "stdout",
     "output_type": "stream",
     "text": [
      "temp reported to be 30.9\n",
      "windspeed reported to be 10.2\n",
      "winddir reported to be 60.0\n",
      "preciptype reported to be None\n",
      "conditions reported to be Overcast\n"
     ]
    }
   ],
   "source": [
    "for item in ['temp','windspeed','winddir','preciptype','conditions']:\n",
    "    val = weather['currentConditions'][item]\n",
    "    print(f'{item} reported to be {val}')"
   ]
  },
  {
   "cell_type": "markdown",
   "metadata": {},
   "source": [
    "How to add these to a DF?\n",
    "1) Define a function that takes the relevant values from the DF and returns whatever info is desired from HTML lookup\n",
    "\n",
    "2) Add it to the DF"
   ]
  },
  {
   "cell_type": "code",
   "execution_count": 3,
   "metadata": {},
   "outputs": [],
   "source": [
    "def weatherLookup(lat,lon,dateTime,APIkey=weatherAPIkey):\n",
    "    import urllib\n",
    "    import json\n",
    "    # the data in the DF is float and dateTime, which needs to be convered to strings to be added to the API query\n",
    "    latS, lonS  = str(lat), str(lon)\n",
    "    dateTimeS = dateTime.strftime('%Y-%m-%dT%H:%M:%S') #YYYY-MM-DDTHH:MM:SS\n",
    "    ApiQuery = 'https://weather.visualcrossing.com/VisualCrossingWebServices/rest/services/timeline/'+\\\n",
    "            latS+'%2C'+lonS+'/'+dateTimeS+'?unitGroup=us&key='+APIkey+'&include=current&contentType=json'\n",
    "    try: \n",
    "        with urllib.request.urlopen(ApiQuery) as response:\n",
    "            html = response.read()\n",
    "    except urllib.error.HTTPError  as e:\n",
    "        ErrorInfo= e.read().decode() \n",
    "        print('Error code: ', e.code, ErrorInfo)\n",
    "        sys.exit()\n",
    "    except  urllib.error.URLError as e:\n",
    "        ErrorInfo= e.read().decode() \n",
    "        print('Error code: ', e.code,ErrorInfo)\n",
    "        sys.exit()\n",
    "\n",
    "    weather = json.loads(html.decode('utf-8'))\n",
    "    return weather['currentConditions']['temp'], weather['currentConditions']['conditions'], weather['currentConditions']['preciptype']"
   ]
  },
  {
   "cell_type": "code",
   "execution_count": null,
   "metadata": {},
   "outputs": [],
   "source": [
    "# add three columns to the DF with the values returned from the weatherLookup function\n",
    "test[['wTemp','wCond','wPrecip']] = \\\n",
    "    [weatherLookup(*a) for a in tuple(zip(test['latitude'],test['longitude'],test['crash_date']))]"
   ]
  }
 ],
 "metadata": {
  "kernelspec": {
   "display_name": "Python 3.10.6 ('default')",
   "language": "python",
   "name": "python3"
  },
  "language_info": {
   "codemirror_mode": {
    "name": "ipython",
    "version": 3
   },
   "file_extension": ".py",
   "mimetype": "text/x-python",
   "name": "python",
   "nbconvert_exporter": "python",
   "pygments_lexer": "ipython3",
   "version": "3.10.6"
  },
  "orig_nbformat": 4,
  "vscode": {
   "interpreter": {
    "hash": "3fd9bb179558f52c0fd35b67e8bb6d5d0ecd33ead53ba97d5f52ce04240a2830"
   }
  }
 },
 "nbformat": 4,
 "nbformat_minor": 2
}
